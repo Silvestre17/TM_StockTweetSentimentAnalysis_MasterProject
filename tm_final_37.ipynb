{
 "cells": [
  {
   "cell_type": "markdown",
   "id": "60ebc416",
   "metadata": {},
   "source": [
    "<div style=\"align-items: center; justify-content: center; flex-wrap: wrap;\">\n",
    "<center><br> <img src=\"https://upload.wikimedia.org/wikipedia/commons/thumb/e/ef/Twitter_and_X_logos.svg/485px-Twitter_and_X_logos.svg.png?20230724093320\" style=\"width: 150px;\"></center><br>\n",
    "</div>"
   ]
  },
  {
   "cell_type": "markdown",
   "id": "ea67f899",
   "metadata": {},
   "source": [
    "<div style=\"display: flex; align-items: center; justify-content: center; flex-wrap: wrap;\">\n",
    "    <div style=\"flex: 1; max-width: 400px; display: flex; justify-content: center;\">\n",
    "        <img src=\"https://i.ibb.co/JBPWVYR/Logo-Nova-IMS-Black.png\" style=\"max-width: 50%; height: auto; margin-top: 50px; margin-bottom: 50px;margin-left: 6rem;\">\n",
    "    </div>\n",
    "    <div style=\"flex: 2; text-align: center; margin-top: 20px;margin-left: 8rem;\">\n",
    "        <div style=\"font-size: 28px; font-weight: bold; line-height: 1.2;\">\n",
    "            <span style=\"color: #24A3F1;\">TM Project |</span> <span style=\"color: #2a2a83;\">Stock Market Sentiment Tweets Analysis</span>\n",
    "        </div>\n",
    "        <div style=\"font-size: 17px; font-weight: bold; margin-top: 10px;\">\n",
    "            Spring Semester | 2024 - 2025\n",
    "        </div>\n",
    "        <div style=\"font-size: 17px; font-weight: bold;\">\n",
    "            Master in Data Science and Advanced Analytics\n",
    "        </div>\n",
    "        <div style=\"margin-top: 20px;\">\n",
    "            <div>André Silvestre, 20240502</div>\n",
    "            <div>Filipa Pereira, 20240509</div>\n",
    "            <div>João Henriques, 20240499</div>\n",
    "            <div>Umeima Mahomed, 20240543</div>\n",
    "        </div>\n",
    "        <div style=\"margin-top: 20px; font-weight: bold;\">\n",
    "            Group 37\n",
    "        </div>\n",
    "    </div>\n",
    "</div>"
   ]
  },
  {
   "cell_type": "markdown",
   "id": "eb8f031c",
   "metadata": {},
   "source": [
    "# <span style=\"color: #ffffff;\">1 & 2 | Business & Data Understanding</span>\n",
    "\n",
    "<div style=\"background: linear-gradient(to right, #24A3F1, #0B62A3, #113d7c, #000000);\n",
    "            padding: 15px; color: white; border-radius: 300px; text-align: center;\">\n",
    "    <center><h1 style=\"margin-left: 100px;margin-top: 10px; margin-bottom: 4px; color: white;\n",
    "                       font-size: 32px; font-family: 'Avenir Next LT Pro', sans-serif;\"><b>1 & 2 | Business & Data Understanding</b></h1></center>\n",
    "</div>\n",
    "\n",
    "<br><br>\n",
    "\n",
    "\n",
    "### **📝 Project Overview**\n",
    "\n",
    "This project focuses on understanding how tweets reflect stock market sentiment. Market sentiment, often described as \"bullish\" (expecting prices to rise) or \"bearish\" (expecting prices to fall), influences investor behavior. This work involves building a tool to automatically classify tweets based on the sentiment they express towards the market.\n",
    "\n",
    "### **🎯 Project Goals**\n",
    "\n",
    "The primary goal is to develop a Natural Language Processing (NLP) model using Python. This model needs to read a tweet and decide if it shows a Bearish (coded as **0**), Bullish (coded as **1**), or Neutral (coded as **2**) attitude. We will use libraries like NLTK, Scikit-learn, and Hugging Face to build and test this classification model.\n",
    "\n",
    "### **🎲 Dataset**\n",
    "\n",
    "- **Dataset Name**: Stock Market Sentiment Tweets (derived name)\n",
    "- **Dataset Description**: The data consists of tweets related to the stock market. It's split into a training file (`train.csv`) and a testing file (`test.csv`). The training file contains the tweet text and its corresponding sentiment label (0, 1, or 2). The test file contains tweet text and an ID, but no labels; the task is to predict these missing labels.\n",
    "- **Dataset Source**: Provided for this course project.\n",
    "- **Dataset Size**: The training set (`train.csv`) contains 9543 tweets. The test set (`test.csv`) contains 2388 tweets.\n",
    "- **Dataset Format**: Comma-Separated Values (.csv)\n",
    "\n",
    "### **🔎 Dataset Attributes**\n",
    "\n",
    "Our analysis uses datasets with the following structures:\n",
    "\n",
    "<center>\n",
    "\n",
    "<b>Table 1 | </b> `train.csv` Attributes with Descriptions. <br>\n",
    "\n",
    "<br>\n",
    "\n",
    "|       | **Field** | **Explanation**                                                   | **Type** |\n",
    "|-------|-----------|-------------------------------------------------------------------|----------|\n",
    "| **1** | `text`    | The actual content of the tweet.                                  | Text     |\n",
    "| **2** | `label`   | The sentiment category: 0 (Bearish), 1 (Bullish), or 2 (Neutral). | Integer  |\n",
    "\n",
    "</center>\n",
    "\n",
    "<br>\n",
    "\n",
    "<center>\n",
    "\n",
    "<b>Table 2 | </b> `test.csv` Attributes with Descriptions. <br>\n",
    "\n",
    "<br>\n",
    "\n",
    "|       | **Field** | **Explanation**                                                              | **Type** |\n",
    "|-------|-----------|------------------------------------------------------------------------------|----------|\n",
    "| **1** | `id`      | A unique identifier for each tweet in the test set.                          | Integer  |\n",
    "| **2** | `text`    | The actual content of the tweet for which sentiment needs to be predicted. | Text     |\n",
    "\n",
    "</center>\n",
    "\n",
    "<br><br>"
   ]
  },
  {
   "cell_type": "markdown",
   "id": "808487c0",
   "metadata": {},
   "source": [
    "<div style=\"background: linear-gradient(to right, #24A3F1, #0B62A3, #113d7c, #000000);\n",
    "            padding: 7px; color: white; border-radius: 500px; text-align: center;\">\n",
    "</div>"
   ]
  },
  {
   "cell_type": "markdown",
   "id": "2d2308f6",
   "metadata": {},
   "source": [
    "## 📚 **Libraries Import**"
   ]
  },
  {
   "cell_type": "code",
   "execution_count": 1,
   "id": "9cc93edb",
   "metadata": {},
   "outputs": [],
   "source": [
    "# # Source to install PyTorch: https://pytorch.org/get-started/locally/\n",
    "# !pip install torch torchvision torchaudio --index-url https://download.pytorch.org/whl/cu126\n",
    "\n",
    "# # To install Google Collab\n",
    "# !pip install --upgrade transformers\n",
    "# !pip install --upgrade accelerate\n",
    "\n",
    "# # Downgrade numpy to version if necessary\n",
    "# !pip install numpy==1.26.4\n",
    "# # Note: Restart the kernel after downgrading numpy to ensure compatibility."
   ]
  },
  {
   "cell_type": "code",
   "execution_count": 2,
   "id": "5e7a99b7",
   "metadata": {},
   "outputs": [],
   "source": [
    "# Imports for System Operations\n",
    "import os\n",
    "import sys\n",
    "import time\n",
    "import datetime\n",
    "from typing import List, Union\n",
    "\n",
    "# Imports for Data Manipulation\n",
    "import numpy as np\n",
    "import pandas as pd\n",
    "import warnings\n",
    "warnings.filterwarnings(\"ignore\")\n",
    "\n",
    "# Imports for Data Visualization\n",
    "import matplotlib.pyplot as plt\n",
    "import seaborn as sns\n",
    "import matplotlib.lines as mlines\n",
    "from collections import Counter\n",
    "import itertools\n",
    "\n",
    "# Imports for Model Evaluation\n",
    "from sklearn.model_selection import train_test_split\n",
    "from sklearn.metrics import confusion_matrix, classification_report, accuracy_score, roc_auc_score, \\\n",
    "    precision_score, recall_score, f1_score\n",
    "\n",
    "# Imports for Text Processing\n",
    "from tqdm import tqdm                       # Locally Run Progress Bar\n",
    "# from tqdm.notebook import tqdm            # Google Colab Progress Bar\n",
    "\n",
    "# Imports for Deep Learning (LSTM) using Keras and PyTorch\n",
    "# Since Transformers models are compatible with PyTorch, we will use PyTorch for training and evaluation LSTM models.\n",
    "# Source: https://keras.io/guides/writing_a_custom_training_loop_in_torch/\n",
    "os.environ[\"KERAS_BACKEND\"] = \"torch\"  # Set Keras backend to PyTorch\n",
    "\n",
    "import torch\n",
    "import keras\n",
    "\n",
    "from keras.models import Model\n",
    "from keras.layers import Input, LSTM, Dense, Dropout, Bidirectional, Masking\n",
    "from keras.optimizers import Adam\n",
    "from keras.metrics import CategoricalAccuracy, AUC, F1Score, Precision, Recall\n",
    "from keras.losses import CategoricalCrossentropy\n",
    "from keras.callbacks import EarlyStopping, ModelCheckpoint, CSVLogger, ReduceLROnPlateau\n",
    "from keras.utils import to_categorical\n",
    "from keras_preprocessing.sequence import pad_sequences\n",
    "from itertools import product\n",
    "\n",
    "# Make the model start with same weights for reproducibility\n",
    "torch.manual_seed(2025)\n",
    "\n",
    "# Imports for Transformer Models\n",
    "import transformers\n",
    "# Source: https://huggingface.co/models\n",
    "from transformers import pipeline, AutoModel, AutoTokenizer, AutoModelForCausalLM\n",
    "\n",
    "# Disable warnings for the pipeline\n",
    "# Source: https://huggingface.co/docs/transformers/en/main_classes/logging\n",
    "from transformers import logging\n",
    "logging.set_verbosity_error()  # Suppress warnings from the transformers library"
   ]
  },
  {
   "cell_type": "code",
   "execution_count": 3,
   "id": "723ca71a",
   "metadata": {},
   "outputs": [
    {
     "name": "stdout",
     "output_type": "stream",
     "text": [
      "4.52.0\n",
      "2.7.0+cu128\n"
     ]
    }
   ],
   "source": [
    "# Source https://github.com/pytorch/torchtune/issues/1185\n",
    "os.environ[\"PYTORCH_CUDA_ALLOC_CONF\"] = \"expandable_segments:True\"\n",
    "\n",
    "print(transformers.__version__)\n",
    "print(torch.__version__)"
   ]
  },
  {
   "cell_type": "code",
   "execution_count": 4,
   "id": "82063a59",
   "metadata": {},
   "outputs": [
    {
     "name": "stdout",
     "output_type": "stream",
     "text": [
      "0\n"
     ]
    }
   ],
   "source": [
    "torch.cuda.empty_cache()  # Clear cache\n",
    "torch.cuda.is_available() # Check if GPU is available\n",
    "# (if False in Google Colab: Make sure your Hardware accelerator is set to GPU. | Runtime > Change runtime type > Hardware Accelerator)\n",
    "\n",
    "# automatically chose CPU or GPU for inference, depending on your hardware\n",
    "device = torch.cuda.current_device() if torch.cuda.is_available() else -1\n",
    "# -1 == CPU ; 0 == GPU\n",
    "print(device)"
   ]
  },
  {
   "cell_type": "code",
   "execution_count": 5,
   "id": "9cd86137",
   "metadata": {},
   "outputs": [],
   "source": [
    "# Auxiliary function to display multiple dataframes side by side\n",
    "# Source: https://python.plainenglish.io/displaying-multiple-dataframes-side-by-side-in-jupyter-lab-notebook-9a4649a4940\n",
    "from IPython.display import display_html\n",
    "from itertools import chain,cycle\n",
    "def display_side_by_side(*args, super_title, titles=cycle([''])):\n",
    "    \"\"\" Display multiple DataFrames side by side in a Jupyter notebook.\n",
    "    Args:\n",
    "        args: Variable number of DataFrame objects to be displayed side by side.\n",
    "        super_title: The main title to be displayed at the top of the combined view.\n",
    "        titles: An iterable containing titles for each DataFrame to be displayed. Defaults to an infinite cycle of empty strings.\n",
    "\n",
    "    Returns:\n",
    "        None. The function generates and displays HTML content side by side for given DataFrames.\n",
    "    \"\"\"\n",
    "    html_str = ''\n",
    "    html_str += f'<h1 style=\"text-align: left; margin-bottom: -15px;\">{super_title}</h1><br>'\n",
    "    html_str += '<div style=\"display: flex;\">'\n",
    "    for df, title in zip(args, chain(titles, cycle(['</br>']))):\n",
    "        html_str += f'<div style=\"margin-right: 20px;\"><h3 style=\"text-align: center;color:#555555;\">{title}</h3>'\n",
    "        html_str += df.to_html().replace('table', 'table style=\"display:inline; margin-right: 20px;\"')\n",
    "        html_str += '</div>'\n",
    "    html_str += '</div>'\n",
    "    display_html(html_str, raw=True)"
   ]
  },
  {
   "cell_type": "markdown",
   "id": "cbe5c018",
   "metadata": {},
   "source": [
    "---"
   ]
  },
  {
   "cell_type": "markdown",
   "id": "6f2253dc",
   "metadata": {},
   "source": [
    "## 🧮 **Import Databases**"
   ]
  },
  {
   "cell_type": "code",
   "execution_count": 6,
   "id": "8f27bc6e",
   "metadata": {},
   "outputs": [],
   "source": [
    "# Load the dataset\n",
    "tweets_train_data = pd.read_csv('./data/train.csv')\n",
    "tweets_test_data = pd.read_csv('./data/test.csv')"
   ]
  },
  {
   "cell_type": "code",
   "execution_count": 7,
   "id": "c2ff97c2",
   "metadata": {},
   "outputs": [
    {
     "name": "stdout",
     "output_type": "stream",
     "text": [
      "\u001b[1mTrain Dataset \u001b[0m\n",
      "  Number of rows: 9543\n",
      "  Number of columns: 2\n",
      "\n",
      "\u001b[1mTest Dataset \u001b[0m\n",
      "  Number of rows: 2388\n",
      "  Number of columns: 2\n"
     ]
    }
   ],
   "source": [
    "# Number of rows and columns\n",
    "print(\"\\033[1mTrain Dataset \\033[0m\")\n",
    "print(\"  Number of rows:\", tweets_train_data.shape[0])\n",
    "print(\"  Number of columns:\", tweets_train_data.shape[1])\n",
    "\n",
    "print(\"\\n\\033[1mTest Dataset \\033[0m\")\n",
    "print(\"  Number of rows:\", tweets_test_data.shape[0])\n",
    "print(\"  Number of columns:\", tweets_test_data.shape[1])"
   ]
  },
  {
   "cell_type": "markdown",
   "id": "ba4e02f1",
   "metadata": {},
   "source": [
    "---"
   ]
  },
  {
   "cell_type": "markdown",
   "id": "6bdbc920",
   "metadata": {},
   "source": [
    "## ⚖️ **Training/Validation Split**\n",
    "\n",
    "Before starting the feature engineering process that will be carried out in the next steps, we will divide the training data into training and validation sets. This will allow us to evaluate the performance of the models we will develop."
   ]
  },
  {
   "cell_type": "code",
   "execution_count": 8,
   "id": "168313d8",
   "metadata": {},
   "outputs": [],
   "source": [
    "# Splitting the data into training and validation sets\n",
    "X = tweets_train_data.drop(columns = ['label'])\n",
    "y = tweets_train_data['label']\n",
    "\n",
    "# Splitting the data into training and validation sets (75% train, 25% validation)\n",
    "X_train, X_val, y_train, y_val = train_test_split(X, y,                # X and y\n",
    "                                                  test_size = 0.25,    # 75% train, 25% validation\n",
    "                                                  random_state = 2025, # Seed\n",
    "                                                  stratify = y,        # Keep the same proportion of target classes (because of imbalance)\n",
    "                                                  shuffle = True)      # Shuffle the data"
   ]
  },
  {
   "cell_type": "code",
   "execution_count": 9,
   "id": "52e218f5",
   "metadata": {},
   "outputs": [
    {
     "data": {
      "text/plain": [
       "((7157, 1), (2386, 1))"
      ]
     },
     "execution_count": 9,
     "metadata": {},
     "output_type": "execute_result"
    }
   ],
   "source": [
    "# Check the shape of the training and validation sets\n",
    "X_train.shape, X_val.shape"
   ]
  },
  {
   "cell_type": "markdown",
   "id": "2cf55954",
   "metadata": {},
   "source": [
    "### **⭐ Rating and Text Length Distribution**\n"
   ]
  },
  {
   "cell_type": "code",
   "execution_count": 10,
   "id": "278b8e20",
   "metadata": {},
   "outputs": [],
   "source": [
    "# Define the color palette for visualizations\n",
    "color_palette = [\n",
    "    \"#000000\",  # Black               0\n",
    "    \"#113D7C\",  # Intense Blue        1\n",
    "    \"#0B62A3\",  # Vibrant Blue        2\n",
    "    \"#0987C3\",  # Light Blue          3\n",
    "    \"#24A3F1\",  # Sky Blue            4\n",
    "]"
   ]
  },
  {
   "cell_type": "code",
   "execution_count": 11,
   "id": "ef16622a",
   "metadata": {},
   "outputs": [],
   "source": [
    "# Set Seaborn style\n",
    "sns.set_style(\"white\")"
   ]
  },
  {
   "cell_type": "code",
   "execution_count": 12,
   "id": "8456508b",
   "metadata": {},
   "outputs": [],
   "source": [
    "# Dictionary to map sentiment labels | Bearish (0), Bullish (1), or Neutral (2)\n",
    "sentiment_labels = {\n",
    "    0: \"Bearish (0)\",\n",
    "    1: \"Bullish (1)\",\n",
    "    2: \"Neutral (2)\"\n",
    "}\n",
    "\n",
    "sentiment_colors_labels = {\n",
    "    'Bearish (0)': \"#113D7C\",\n",
    "    'Bullish (1)': \"#24A3F1\",\n",
    "    'Neutral (2)': \"#c4c4c4\"\n",
    "}"
   ]
  },
  {
   "cell_type": "code",
   "execution_count": 13,
   "id": "f75ae48f",
   "metadata": {},
   "outputs": [
    {
     "data": {
      "image/png": "[encoded data removed]",
      "text/plain": [
       "<Figure size 1200x500 with 2 Axes>"
      ]
     },
     "metadata": {},
     "output_type": "display_data"
    }
   ],
   "source": [
    "# Plot the distribution of sentiment labels in the training and validation sets\n",
    "fig, axs = plt.subplots(nrows=1, ncols=2, figsize=(12, 5))\n",
    "\n",
    "# Barplot for training set\n",
    "sns.barplot(x=y_train.replace(sentiment_labels).value_counts().index,\n",
    "            y=y_train.replace(sentiment_labels).value_counts().values,\n",
    "            order=y_train.replace(sentiment_labels).value_counts().index,\n",
    "            palette=sentiment_colors_labels,\n",
    "            ax=axs[0], alpha=0.7)\n",
    "axs[0].set_title('Distribution of Sentiment Labels \\n Training Set\\n', fontsize=14, fontweight='bold')\n",
    "axs[0].set_xlabel('\\nSentiment', fontweight='bold', fontsize=10)\n",
    "axs[0].set_ylabel('Frequency (n)\\n', fontweight='bold', fontsize=10)\n",
    "axs[0].grid(axis='y', linestyle='--', alpha=0.7)\n",
    "\n",
    "# Add percentage labels on top of the bars\n",
    "for i, v in enumerate(y_train.value_counts().values):\n",
    "    percentage = (v / len(y_train)) * 100\n",
    "    axs[0].text(i, v + 5, f\"{percentage:.1f}%\", ha='center', va='bottom', fontsize=10, color='black')\n",
    "\n",
    "# Barplot for validation set\n",
    "sns.barplot(x=y_val.replace(sentiment_labels).value_counts().index,\n",
    "            y=y_val.replace(sentiment_labels).value_counts().values,\n",
    "            order=y_val.replace(sentiment_labels).value_counts().index,\n",
    "            palette=sentiment_colors_labels,\n",
    "            ax=axs[1], alpha=0.7)\n",
    "axs[1].set_title('Distribution of Sentiment Labels \\n Validation Set\\n', fontsize=14, fontweight='bold')\n",
    "axs[1].set_xlabel('\\nSentiment', fontweight='bold', fontsize=10)\n",
    "axs[1].set_ylabel('Frequency (n)\\n', fontweight='bold', fontsize=10)\n",
    "axs[1].grid(axis='y', linestyle='--', alpha=0.7)\n",
    "\n",
    "# Add percentage labels on top of the bars\n",
    "for i, v in enumerate(y_val.value_counts().values):\n",
    "    percentage = (v / len(y_val)) * 100\n",
    "    axs[1].text(i, v + 5, f\"{percentage:.1f}%\", ha='center', va='bottom', fontsize=10, color='black')\n",
    "\n",
    "# Remove the top and right spines\n",
    "sns.despine(top=True, right=True)\n",
    "plt.tight_layout()\n",
    "plt.show()"
   ]
  },
  {
   "cell_type": "code",
   "execution_count": 14,
   "id": "f4584ab7",
   "metadata": {},
   "outputs": [
    {
     "data": {
      "image/png": "[encoded data removed]",
      "text/plain": [
       "<Figure size 1200x500 with 2 Axes>"
      ]
     },
     "metadata": {},
     "output_type": "display_data"
    }
   ],
   "source": [
    "# Plot the distribution of text lengths in the training and validation sets\n",
    "fig, axs = plt.subplots(nrows=1, ncols=2, figsize=(12, 5))\n",
    "\n",
    "# Histogram for training set\n",
    "sns.histplot(X_train['text'].str.len(), bins=10, color=color_palette[2], ax=axs[0], alpha=0.7)\n",
    "axs[0].set_title('Distribution of Text Lengths \\n Training Set\\n', fontsize=14, fontweight='bold')\n",
    "axs[0].set_xlabel('\\nText Length', fontweight='bold', fontsize=10)\n",
    "axs[0].set_ylabel('Frequency (n)\\n', fontweight='bold', fontsize=10)\n",
    "axs[0].grid(axis='y', linestyle='--', alpha=0.7)\n",
    "\n",
    "# Histogram for validation set\n",
    "sns.histplot(X_val['text'].str.len(), bins=10, color=color_palette[3], ax=axs[1], alpha=0.7)\n",
    "axs[1].set_title('Distribution of Text Lengths \\n Validation Set\\n', fontsize=14, fontweight='bold')\n",
    "axs[1].set_xlabel('\\nText Length', fontweight='bold', fontsize=10)\n",
    "axs[1].set_ylabel('Frequency (n)\\n', fontweight='bold', fontsize=10)\n",
    "axs[1].grid(axis='y', linestyle='--', alpha=0.7)\n",
    "\n",
    "# Remove the top and right spines\n",
    "sns.despine(top=True, right=True)\n",
    "plt.tight_layout()\n",
    "plt.show()"
   ]
  },
  {
   "cell_type": "markdown",
   "id": "86de1616",
   "metadata": {},
   "source": [
    "---"
   ]
  },
  {
   "cell_type": "markdown",
   "id": "385c213b",
   "metadata": {},
   "source": [
    "## **🗂️ Feature Engineering**"
   ]
  },
  {
   "cell_type": "markdown",
   "id": "11d4fa6a",
   "metadata": {},
   "source": [
    "### **[EXTRA 1] 🤗 Embeddings from Hugging Face Encoder [DeBERTa V3 Base](https://huggingface.co/sileod/deberta-v3-base-tasksource-nli)**\n",
    "\n",
    "- We use the DeBERTa V3 Base model to obtain contextualized embeddings for our text data.\n",
    "  - This model is pre-trained on a large corpus and fine-tuned for natural language understanding tasks **but not specifically for stock market sentiment**."
   ]
  },
  {
   "cell_type": "markdown",
   "id": "15386c4e",
   "metadata": {},
   "source": [
    "#### **Generate the embeddings with a Transformer Model**\n",
    "\n",
    "- We will use the `transformers` library to load the model and generate embeddings for our text data.\n",
    "    - To do this, we will use the `pipeline` function from the `transformers` library, with the `feature-extraction` task.\n",
    "    - This will allow us to obtain the embeddings for each tweet in our dataset.\n",
    "      - The embeddings will be generated for each tweet in the training and validation sets, resulting in a matrix of shape `(number_of_tweets, embedding_dimension)`.\n",
    "\n",
    "<div style=\"background-color:#f9f9f9; border:2px solid #ccc; border-radius:8px; padding:16px;\">\n",
    "\n",
    "**Example of a Embedding Generation**\n",
    "\n",
    "- **Original Text**: [CLS] The stock market is doing well today [SEP]\n",
    "- **Model Input**: [CLS] [100, 200, 300, ...] [SEP]  (where each number represents a token ID)\n",
    "- **Model Output**: [[0.1, -0.2, 0.3, ...], [0.4, -0.5, 0.6, ...], ...] (a list of vectors representing the text) with shape `(number_of_tweets, embedding_dimension)`.\n",
    "  - **Embedding Dimension**: 768 (Corresponding to number of hidden units in the model)\n",
    "\n",
    "</div>"
   ]
  },
  {
   "cell_type": "code",
   "execution_count": 15,
   "id": "2cce6435",
   "metadata": {},
   "outputs": [],
   "source": [
    "# Function to generate CLS embeddings using a Hugging Face model\n",
    "def generate_cls_embeddings(texts, embeddings_model, desc=\"Generating CLS Embeddings\"):\n",
    "    \"\"\"\n",
    "    Generates CLS token embeddings for a list of input texts.\n",
    "\n",
    "    Args:\n",
    "        texts (list of str): List of text inputs.\n",
    "        embeddings_model (callable): A Hugging Face embedding pipeline or model that returns hidden states.\n",
    "        desc (str): Description for the tqdm progress bar.\n",
    "\n",
    "    Returns:\n",
    "        List of torch.Tensor: CLS embeddings for each input text.\n",
    "    \"\"\"\n",
    "    # List to hold CLS embeddings\n",
    "    cls_embeddings = []\n",
    "    \n",
    "    # Iterate over each text input and generate CLS embeddings\n",
    "    for text in tqdm(texts, desc=desc):\n",
    "        \n",
    "        # Generate embeddings using the provided model\n",
    "        embeddings = embeddings_model(text)\n",
    "        \n",
    "        # Assuming output format is [ [ [CLS], token1, token2, ... ] ]\n",
    "        # Extract the CLS token embedding (first token in the first batch)\n",
    "        cls_embedding = torch.tensor(embeddings[0][0])\n",
    "        \n",
    "        # Append the CLS embedding to the list\n",
    "        cls_embeddings.append(cls_embedding)\n",
    "        \n",
    "    # Return the list of CLS embeddings\n",
    "    return cls_embeddings"
   ]
  },
  {
   "cell_type": "code",
   "execution_count": 16,
   "id": "601e12cc",
   "metadata": {},
   "outputs": [
    {
     "name": "stderr",
     "output_type": "stream",
     "text": [
      "Generating CLS Embeddings for X_train: 100%|██████████| 7157/7157 [04:50<00:00, 24.67it/s]\n",
      "Generating CLS Embeddings for X_val: 100%|██████████| 2386/2386 [01:46<00:00, 22.47it/s]\n",
      "Generating CLS Embeddings for tweets_test_data: 100%|██████████| 2388/2388 [02:10<00:00, 18.32it/s]"
     ]
    },
    {
     "name": "stdout",
     "output_type": "stream",
     "text": [
      "\u001b[1mShape of DeBERTa embeddings for X_train: \u001b[0mtorch.Size([7157, 768])\n",
      "\u001b[1mShape of DeBERTa embeddings for X_val: \u001b[0mtorch.Size([2386, 768])\n",
      "\u001b[1mShape of DeBERTa embeddings for X_test: \u001b[0mtorch.Size([2388, 768])\n"
     ]
    },
    {
     "name": "stderr",
     "output_type": "stream",
     "text": [
      "\n"
     ]
    }
   ],
   "source": [
    "# Define DeBERTa V3 Base model path\n",
    "deberta_model_path = \"sileod/deberta-v3-base-tasksource-nli\"\n",
    "\n",
    "# Load the pipeline for feature extraction\n",
    "deberta_feature_extractor = pipeline(\"feature-extraction\", model=deberta_model_path, tokenizer=deberta_model_path, device=device,\n",
    "                                     padding=True, truncation=True)\n",
    "\n",
    "# Generate CLS embeddings for the training set (using original text)\n",
    "X_train_deberta = generate_cls_embeddings(\n",
    "    X_train['text'].tolist(),\n",
    "    embeddings_model=deberta_feature_extractor,\n",
    "    desc=\"Generating CLS Embeddings for X_train\"\n",
    ")\n",
    "\n",
    "# Generate CLS embeddings for the validation set (using original text)\n",
    "X_val_deberta = generate_cls_embeddings(\n",
    "    X_val['text'].tolist(),\n",
    "    embeddings_model=deberta_feature_extractor,\n",
    "    desc=\"Generating CLS Embeddings for X_val\"\n",
    ")\n",
    "\n",
    "# Generate CLS embeddings for the test set (using original text)\n",
    "X_test_deberta = generate_cls_embeddings(\n",
    "    tweets_test_data['text'].tolist(),\n",
    "    embeddings_model=deberta_feature_extractor,\n",
    "    desc=\"Generating CLS Embeddings for tweets_test_data\"\n",
    ")\n",
    "\n",
    "# Show the shape of the embeddings\n",
    "print(f\"\\033[1mShape of DeBERTa embeddings for X_train: \\033[0m{torch.stack(X_train_deberta).shape}\")\n",
    "print(f\"\\033[1mShape of DeBERTa embeddings for X_val: \\033[0m{torch.stack(X_val_deberta).shape}\")\n",
    "print(f\"\\033[1mShape of DeBERTa embeddings for X_test: \\033[0m{torch.stack(X_test_deberta).shape}\")"
   ]
  },
  {
   "cell_type": "markdown",
   "id": "4bc646da",
   "metadata": {},
   "source": [
    "### **[EXTRA 2] 🤗 Embeddings from Hugging Face Encoder [FinTwitBERT-sentiment](https://huggingface.co/StephanAkkerman/FinTwitBERT-sentiment)**\n",
    "\n",
    "- We use the FinTwitBERT model to obtain contextualized embeddings for our text data.\n",
    "  - This model is **fine-tuned on financial tweets and fine-tuned for sentiment analysis tasks**, making it particularly suitable for our stock market sentiment analysis."
   ]
  },
  {
   "cell_type": "code",
   "execution_count": 17,
   "id": "6a3bba94",
   "metadata": {},
   "outputs": [
    {
     "name": "stderr",
     "output_type": "stream",
     "text": [
      "Generating CLS Embeddings for X_train using FinTwitBERT: 100%|██████████| 7157/7157 [03:02<00:00, 39.24it/s]\n",
      "Generating CLS Embeddings for X_val using FinTwitBERT: 100%|██████████| 2386/2386 [00:52<00:00, 45.14it/s]\n",
      "Generating CLS Embeddings for tweets_test_data using FinTwitBERT: 100%|██████████| 2388/2388 [00:50<00:00, 47.38it/s]"
     ]
    },
    {
     "name": "stdout",
     "output_type": "stream",
     "text": [
      "\u001b[1mShape of FinTwitBERT embeddings for X_train: \u001b[0mtorch.Size([7157, 768])\n",
      "\u001b[1mShape of FinTwitBERT embeddings for X_val: \u001b[0mtorch.Size([2386, 768])\n",
      "\u001b[1mShape of FinTwitBERT embeddings for X_test: \u001b[0mtorch.Size([2388, 768])\n"
     ]
    },
    {
     "name": "stderr",
     "output_type": "stream",
     "text": [
      "\n"
     ]
    }
   ],
   "source": [
    "# Define FinTwitBERT-sentiment model path\n",
    "FinTwitBERT_model_path = \"StephanAkkerman/FinTwitBERT-sentiment\"\n",
    "\n",
    "# Load the pipeline for feature extraction\n",
    "FinTwitBERT_feature_extractor = pipeline(\"feature-extraction\", model=FinTwitBERT_model_path, tokenizer=FinTwitBERT_model_path, device=device,\n",
    "                                         padding=True, truncation=True)\n",
    "\n",
    "# Generate CLS embeddings for the training set using FinTwitBERT (using original text)\n",
    "X_train_FinTwitBERT = generate_cls_embeddings(\n",
    "    X_train['text'].tolist(),\n",
    "    embeddings_model=FinTwitBERT_feature_extractor,\n",
    "    desc=\"Generating CLS Embeddings for X_train using FinTwitBERT\"\n",
    ")\n",
    "\n",
    "# Generate CLS embeddings for the validation set using FinTwitBERT (using original text)\n",
    "X_val_FinTwitBERT = generate_cls_embeddings(\n",
    "    X_val['text'].tolist(),\n",
    "    embeddings_model=FinTwitBERT_feature_extractor,\n",
    "    desc=\"Generating CLS Embeddings for X_val using FinTwitBERT\"\n",
    ")\n",
    "\n",
    "# Generate CLS embeddings for the test set using FinTwitBERT (using original text)\n",
    "X_test_FinTwitBERT = generate_cls_embeddings(\n",
    "    tweets_test_data['text'].tolist(),\n",
    "    embeddings_model=FinTwitBERT_feature_extractor,\n",
    "    desc=\"Generating CLS Embeddings for tweets_test_data using FinTwitBERT\"\n",
    ")\n",
    "\n",
    "# Show the shape of the embeddings\n",
    "print(f\"\\033[1mShape of FinTwitBERT embeddings for X_train: \\033[0m{torch.stack(X_train_FinTwitBERT).shape}\")\n",
    "print(f\"\\033[1mShape of FinTwitBERT embeddings for X_val: \\033[0m{torch.stack(X_val_FinTwitBERT).shape}\")\n",
    "print(f\"\\033[1mShape of FinTwitBERT embeddings for X_test: \\033[0m{torch.stack(X_test_FinTwitBERT).shape}\")"
   ]
  },
  {
   "cell_type": "markdown",
   "id": "25902019",
   "metadata": {},
   "source": [
    "---"
   ]
  },
  {
   "cell_type": "markdown",
   "id": "ad478219",
   "metadata": {},
   "source": [
    "# <span style=\"color: #ffffff;\">4 & 5 | Modelling & Evaluation</span>\n",
    "<br>\n",
    "<style>\n",
    "@import url('https://fonts.cdnfonts.com/css/avenir-next-lt-pro?styles=29974');\n",
    "</style>\n",
    "\n",
    "<div style=\"background: linear-gradient(to right, #24A3F1, #0B62A3, #113d7c, #000000);\n",
    "            padding: 10px; color: white; border-radius: 300px; text-align: center;\">\n",
    "    <center><h1 style=\"margin-top: 10px; margin-bottom: 4px; color: white;\n",
    "                       font-size: 32px; font-family: 'Avenir Next LT Pro', sans-serif;\">\n",
    "        <b>4 & 5 | Modelling & Evaluation</b></h1></center>\n",
    "</div>\n",
    "\n",
    "<br><br>"
   ]
  },
  {
   "cell_type": "code",
   "execution_count": 18,
   "id": "fc49534f",
   "metadata": {},
   "outputs": [],
   "source": [
    "# Function that will print the results of the classification report and the confusion matrix for both datasets (train and validation)\n",
    "# Additionally, it will save results in a dictionary to compare the results of different models\n",
    "def classification_metrics(model_name,\n",
    "                           y_true_train, y_pred_train,\n",
    "                           y_true_val, y_pred_val,\n",
    "                           time_execution,\n",
    "                           y_pred_train_proba=None, y_pred_val_proba=None,\n",
    "                           classification_report_show=True):\n",
    "    \"\"\"Evaluate and display classification metrics using provided true and predicted labels.\n",
    "\n",
    "    Handles both standard model predictions and pre-computed predictions (e.g., from Transformers or other models different from sklearn).\n",
    "    Calculates AUROC only if prediction probabilities are provided.\n",
    "\n",
    "    Args:\n",
    "        model_name (str): The name of the model/approach being evaluated.\n",
    "        y_true_train (array-like): True labels for the training set (numerical: 0, 1, 2).\n",
    "        y_pred_train (array-like): Predicted labels for the training set (numerical: 0, 1, 2).\n",
    "        y_true_val (array-like): True labels for the validation set (numerical: 0, 1, 2).\n",
    "        y_pred_val (array-like): Predicted labels for the validation set (numerical: 0, 1, 2).\n",
    "        time_execution (float or str): The time taken for prediction/training, for reporting.\n",
    "        y_pred_train_proba (array-like, optional): Predicted probabilities for the training set (shape [n_samples, n_classes]). Defaults to None.\n",
    "        y_pred_val_proba (array-like, optional): Predicted probabilities for the validation set (shape [n_samples, n_classes]). Defaults to None.\n",
    "        classification_report_show (bool, optional): Whether to display the classification report. Defaults to True.\n",
    "\n",
    "    Returns:\n",
    "        tuple: A tuple containing two dictionaries:\n",
    "            - models_results_train (dict): Dictionary with training metrics (Accuracy, Precision, Recall, F1 Score, AUROC).\n",
    "            - models_results_val (dict): Dictionary with validation metrics (Accuracy, Precision, Recall, F1 Score, AUROC).\n",
    "    \"\"\"\n",
    "    # Ensure inputs are numerical numpy arrays for scikit-learn compatibility\n",
    "    y_true_train = np.asarray(y_true_train)\n",
    "    y_pred_train = np.asarray(y_pred_train)\n",
    "    y_true_val = np.asarray(y_true_val)\n",
    "    y_pred_val = np.asarray(y_pred_val)\n",
    "\n",
    "    # Create Text Labels for Display\n",
    "    # Map numerical labels to text labels using the global dictionary\n",
    "    y_true_train_text = pd.Series(y_true_train).map(sentiment_labels).values\n",
    "    y_pred_train_text = pd.Series(y_pred_train).map(sentiment_labels).values\n",
    "    y_true_val_text = pd.Series(y_true_val).map(sentiment_labels).values\n",
    "    y_pred_val_text = pd.Series(y_pred_val).map(sentiment_labels).values\n",
    "    \n",
    "    # Define unique text labels based on true validation data for consistent ordering\n",
    "    unique_text_labels = sorted(pd.Series(y_true_val).map(sentiment_labels).unique())\n",
    "\n",
    "    # Initialize the dictionaries to store the results of the models\n",
    "    models_results_train = {}\n",
    "    models_results_val = {}\n",
    "\n",
    "    # Display model name\n",
    "    display_html(f'<h1 style=\"text-align: left; margin-bottom: -15px;\">{model_name}</h1><br>', raw=True)\n",
    "\n",
    "    # Calculate AUROC if probabilities are available\n",
    "    auroc_train_score = 'N/A'\n",
    "    auroc_val_score = 'N/A'\n",
    "    \n",
    "    # Check if probabilities are provided and have the correct shape\n",
    "    if y_pred_train_proba is not None and y_pred_val_proba is not None:\n",
    "        # Ensure probabilities are numpy arrays\n",
    "        y_pred_train_proba = np.asarray(y_pred_train_proba)\n",
    "        y_pred_val_proba = np.asarray(y_pred_val_proba)\n",
    "    \n",
    "        # Check if probabilities have the correct shape (n_samples, n_classes)\n",
    "        # Assuming 3 classes (0, 1, 2)\n",
    "        if y_pred_train_proba.shape[1] == 3 and y_pred_val_proba.shape[1] == 3:\n",
    "             try:\n",
    "                 auroc_train_score = round(roc_auc_score(y_true_train, y_pred_train_proba, multi_class='ovr'), 2)\n",
    "                 auroc_val_score = round(roc_auc_score(y_true_val, y_pred_val_proba, multi_class='ovr'), 2)\n",
    "             except ValueError as e:\n",
    "                 print(f\"Could not calculate AUROC: {e}\") # Handle cases like only one class present\n",
    "        else:\n",
    "             print(\"Warning: Probabilities provided do not have shape (n_samples, 3). Cannot calculate AUROC.\")\n",
    "\n",
    "    # ----------------------------------- Classification Report  -----------------------------------\n",
    "    # Display Classification Report of the *Hold-out Validation* - If classification_report_show=True\n",
    "    if classification_report_show:\n",
    "        print('___________________________________________________________________________________________________________')\n",
    "        print('                                                     TRAIN                                                 ')\n",
    "        print('-----------------------------------------------------------------------------------------------------------')\n",
    "        # Use text labels for the report display\n",
    "        print(classification_report(y_true_train_text, y_pred_train_text,\n",
    "                                    labels=unique_text_labels,      # Ensure consistent order\n",
    "                                    zero_division=0))               # Set to 0 to report 0 instead of NaN/warning\n",
    "        print(f'\\nAUROC: {auroc_train_score}')\n",
    "\n",
    "        print('___________________________________________________________________________________________________________')\n",
    "        print('                                                VALIDATION                                                 ')\n",
    "        print('-----------------------------------------------------------------------------------------------------------')\n",
    "        # Use text labels for the report display\n",
    "        print(classification_report(y_true_val_text, y_pred_val_text,\n",
    "                                    labels=unique_text_labels,      # Ensure consistent order\n",
    "                                    zero_division=0))               # Set to 0 to report 0 instead of NaN/warning\n",
    "        print(f'\\nAUROC: {auroc_val_score}')\n",
    "\n",
    "    # ----------------------------------- Confusion Matrix for Train and Validation side by side -----------------------------------\n",
    "    # Confusion Matrix (Uses Text Labels for Readability)\n",
    "    fig, ax = plt.subplots(1, 2, figsize=(10, 5))\n",
    "    cm_train = confusion_matrix(y_true_train_text, y_pred_train_text, labels=unique_text_labels)\n",
    "    sns.heatmap(cm_train, annot=True, annot_kws={\"size\": 10}, fmt='d', cmap='Blues', cbar=False,\n",
    "                xticklabels=unique_text_labels, yticklabels=unique_text_labels, ax=ax[0])\n",
    "    ax[0].set_title('Confusion Matrix [Train]\\n', fontsize=12, fontweight='bold')\n",
    "    ax[0].set_xlabel('\\nPredicted', fontsize=10, fontweight='bold')\n",
    "    ax[0].set_ylabel('True\\n', fontsize=10, fontweight='bold')\n",
    "\n",
    "    cm_val = confusion_matrix(y_true_val_text, y_pred_val_text, labels=unique_text_labels)\n",
    "    sns.heatmap(cm_val, annot=True, annot_kws={\"size\": 10}, fmt='d', cmap='Blues', cbar=False,\n",
    "                xticklabels=unique_text_labels, yticklabels=unique_text_labels, ax=ax[1])\n",
    "    ax[1].set_title('Confusion Matrix [Validation]\\n', fontsize=12, fontweight='bold')\n",
    "    ax[1].set_xlabel('\\nPredicted', fontsize=10, fontweight='bold')\n",
    "    ax[1].set_ylabel('True\\n', fontsize=10, fontweight='bold')\n",
    "    plt.tight_layout()\n",
    "    plt.show()\n",
    "\n",
    "    # ----------------------------------- Save the results in a dictionary -----------------------------------\n",
    "    # Store Metrics (Calculated using Numerical Labels)\n",
    "    models_results_train[model_name] = {\n",
    "        'Time of Execution': round(time_execution, 2),\n",
    "        'Accuracy': round(accuracy_score(y_true_train, y_pred_train), 2),\n",
    "        'Precision': round(precision_score(y_true_train, y_pred_train, average='macro', zero_division=0), 2),\n",
    "        'Recall': round(recall_score(y_true_train, y_pred_train, average='macro', zero_division=0), 2),\n",
    "        'F1 Score (Macro)': round(f1_score(y_true_train, y_pred_train, average='macro', zero_division=0), 2),\n",
    "        'AUROC': auroc_train_score # Store calculated or 'N/A'\n",
    "    }\n",
    "\n",
    "    models_results_val[model_name] = {\n",
    "        'Accuracy': round(accuracy_score(y_true_val, y_pred_val), 2),\n",
    "        'Precision': round(precision_score(y_true_val, y_pred_val, average='macro', zero_division=0), 2),\n",
    "        'Recall': round(recall_score(y_true_val, y_pred_val, average='macro', zero_division=0), 2),\n",
    "        'F1 Score (Macro)': round(f1_score(y_true_val, y_pred_val, average='macro', zero_division=0), 2),\n",
    "        'AUROC': auroc_val_score # Store calculated or 'N/A'\n",
    "    }\n",
    "    \n",
    "    # Return the results of the models\n",
    "    return models_results_train, models_results_val"
   ]
  },
  {
   "cell_type": "markdown",
   "id": "9e410eae",
   "metadata": {},
   "source": [
    "After completing all tests and evaluations, we will run the 3 best models to predict the sentiment of the tweets in the test set. Then we will ensemble the predictions from these models to create a final prediction (using a majority vote approach).\n",
    "\n",
    "### **🏆 Best Models**\n",
    "- **Original Text** with **Transformer-based [DeBERTa V3 Base](https://huggingface.co/sileod/deberta-v3-base-tasksource-nli)** encoder as *Feature Engineering* and **LSTM** as the *Model*.\n",
    "- **Original Text** with **Transformer-based [FinTwitBERT-sentiment](https://huggingface.co/StephanAkkerman/FinTwitBERT-sentiment)** encoder as *Feature Engineering* and **LSTM** as the *Model*.\n",
    "- **Original Text** with **Transformer-based [FinTwitBERT-sentiment](https://huggingface.co/StephanAkkerman/FinTwitBERT-sentiment)** encoder as *Feature Engineering* and *Model*."
   ]
  },
  {
   "cell_type": "markdown",
   "id": "a366869a",
   "metadata": {},
   "source": [
    "## <span style=\"color: #ffffff;\">LSTM (Long Short-Term Memory)</span>\n",
    "<br>\n",
    "<style>\n",
    "@import url('https://fonts.cdnfonts.com/css/avenir-next-lt-pro?styles=29974');\n",
    "</style>\n",
    "\n",
    "<div style=\"background: transparent;\n",
    "            padding: 10px; color: white; border-radius: 300px; text-align: center;\n",
    "            border: 2px solid #0B62A3;\">\n",
    "    <center><h2 style=\"margin-left: 120px;margin-top: 10px; margin-bottom: 4px; color: #0B62A3;\n",
    "                       font-size: 24px; font-family: 'Avenir Next LT Pro', sans-serif;\"><b> LSTM (Long Short-Term Memory)</b></h2></center>\n",
    "</div>\n",
    "\n",
    "<br><br>\n",
    "\n",
    "### **LSTM Model Architecture**\n",
    "\n",
    "<div style=\"background-color:#f9f9f9; border:2px solid #ccc; border-radius:8px; padding:16px;\">\n",
    "    \n",
    "    \n",
    "- **Input Layer**: Takes the preprocessed text data.\n",
    "  - For TF-IDF, the input is a static vector per tweet. \n",
    "  - For GloVe, DeBERTa, and FinTwitBERT, the input is a dense embedding vector, treated as a sequence of length 1 for simplicity. More complex sequence modeling (e.g., token-level sequences) is avoided due to the short nature of tweets and computational constraints.\n",
    "- **Embedding Layer**: Converts words into dense vectors of fixed size.\n",
    "- **LSTM Layer**: Captures long-term dependencies in the text.\n",
    "- **Dense Layer**: Fully connected layer for classification.\n",
    "- **Output Layer**: Softmax activation for multi-class classification (Bearish, Bullish, Neutral).\n",
    "\n",
    "</div>\n",
    "<br>\n",
    "\n",
    "<center>\n",
    "<img src=\"https://miro.medium.com/v2/resize:fit:680/1*sf4vCzcyycSe7GC3dZ2u2w.png\" alt=\"LSTM Architecture\" style=\"width: 600px; height: auto;\">\n",
    "</center>\n",
    "\n",
    "<br>\n",
    "\n",
    "### **LSTM Model Implementation**\n",
    "- We will implement the LSTM model using ***Keras*** (and *PyTorch*), a high-level neural networks API, which allows us to build and train deep learning models easily.\n",
    "\n",
    "\n"
   ]
  },
  {
   "cell_type": "code",
   "execution_count": 19,
   "id": "737dffdb",
   "metadata": {},
   "outputs": [],
   "source": [
    "# Create directories for saving model checkpoints and evaluation logs\n",
    "os.makedirs(\"./ModelsEvaluation_FinalSolution/LSTM\", exist_ok=True)         # exist_ok=True | Create directory if it doesn't exist\n",
    "os.makedirs(\"./Predictions_FinalSolution\", exist_ok=True)"
   ]
  },
  {
   "cell_type": "code",
   "execution_count": 20,
   "id": "ed1a633b",
   "metadata": {},
   "outputs": [],
   "source": [
    "# Define the LSTM Model Class\n",
    "class LSTMModel(Model):\n",
    "    def __init__(self, input_shape, lstm_units=64, dropout_rate=0.3, num_classes=3, padding=False):\n",
    "        \"\"\"\n",
    "        Initialize the LSTM model for sentiment classification.\n",
    "        \n",
    "        Args:\n",
    "            input_shape (tuple): Shape of the input data (e.g., (feature_dim,) for TF-IDF or embeddings).\n",
    "            lstm_units (int): Number of LSTM units. Default: 64.\n",
    "            dropout_rate (float): Dropout rate for regularization. Default: 0.3.\n",
    "            num_classes (int): Number of output classes (Bearish, Bullish, Neutral). Default: 3.\n",
    "        \"\"\"\n",
    "        super(LSTMModel, self).__init__()\n",
    "        self.padding = padding  # Whether to use padding masking\n",
    "        \n",
    "        # Input layer with specified shape\n",
    "        self.input_layer = Input(shape=input_shape, name='input')\n",
    "        \n",
    "        if padding:\n",
    "            # Mask layer to avoid model from considering padding vectors\n",
    "            self.mask_layer = Masking(mask_value=0)\n",
    "           \n",
    "        else:\n",
    "            # Reshape input for LSTM (expects [batch, timesteps, features]) - Add a dimension for timesteps\n",
    "            self.reshape = keras.layers.Reshape((1, input_shape[0]), name='reshape')\n",
    "        \n",
    "        # LSTM layer with specified units\n",
    "        self.lstm = Bidirectional(LSTM(units=lstm_units, return_sequences=False), name='bidirectional_lstm')\n",
    "        \n",
    "        # Dropout layer for regularization\n",
    "        self.dropout = Dropout(rate=dropout_rate, name='dropout')\n",
    "        \n",
    "        # Dense layer for classification\n",
    "        self.dense = Dense(units=64, activation='relu', name='dense')\n",
    "        \n",
    "        # Output layer with softmax activation for multi-class classification\n",
    "        self.output_layer = Dense(units=num_classes, activation='softmax', name='output')\n",
    "\n",
    "    def call(self, inputs, training=False):\n",
    "        \"\"\"\n",
    "        Forward pass of the model.\n",
    "        \n",
    "        Args:\n",
    "            inputs: Input tensor.\n",
    "            training (bool): Whether in training mode (affects dropout).\n",
    "        \n",
    "        Returns:\n",
    "            Tensor: Model output (softmax probabilities).\n",
    "        \"\"\"\n",
    "        # Apply mask if padding is used\n",
    "        if self.padding:\n",
    "            # Masking layer to ignore padding values\n",
    "            x = self.mask_layer(inputs)\n",
    "        else:\n",
    "            # Reshape input for LSTM if padding is not used\n",
    "            x = self.reshape(inputs)\n",
    "        x = self.lstm(x)\n",
    "        x = self.dropout(x, training=training)\n",
    "        x = self.dense(x)\n",
    "        return self.output_layer(x)"
   ]
  },
  {
   "cell_type": "code",
   "execution_count": 21,
   "id": "572587a2",
   "metadata": {},
   "outputs": [],
   "source": [
    "# Function to plot metrics\n",
    "def plot_metrics(history, file_path=None, model_name=None):\n",
    "    \"\"\"Plots training and validation metrics.\n",
    "    Args:\n",
    "        history: Dictionary or Keras History object containing training metrics.\n",
    "        file_path (str): Path to save the plot. If None, the plot is displayed only.\n",
    "        model_name (str): Name of the model for the title.\n",
    "    Returns:\n",
    "        Shows the plot.\n",
    "    \"\"\"\n",
    "    # Create a figure with 5 subplots (1 row, 5 columns)\n",
    "    fig, ax = plt.subplots(1, 5, figsize=(20, 4))\n",
    "    \n",
    "    # Plot each metric (loss, accuracy, precision, recall, f1_score)\n",
    "    metrics = [('loss', 'Loss'), ('accuracy', 'Accuracy'), ('precision', 'Precision'), \n",
    "               ('recall', 'Recall'), ('f1_score', 'F1 Score')]\n",
    "    \n",
    "    # Iterate through the metrics and plot them\n",
    "    for i, (metric, title) in enumerate(metrics):\n",
    "        \n",
    "        # Check if history is a dictionary (like history_tfidf.history)\n",
    "        ax[i].plot(history[metric], label='Train', color=color_palette[4])\n",
    "        ax[i].plot(history[f'val_{metric}'], label='Val', color=color_palette[2])\n",
    "        \n",
    "        ax[i].set_title(title, fontsize=14, fontweight='bold')\n",
    "        ax[i].set_xlabel('Epoch', fontsize=10, fontweight='bold')\n",
    "        ax[i].set_ylabel(title, fontsize=10, fontweight='bold')\n",
    "        ax[i].legend()\n",
    "        \n",
    "        # Format y-ticks: percentages for metrics other than loss, rounded for loss\n",
    "        if metric != 'loss':\n",
    "            ax[i].set_yticklabels([f'{int(t*100)}%' for t in ax[i].get_yticks()])\n",
    "        else:\n",
    "            ax[i].set_yticklabels([f'{t:.2f}' for t in ax[i].get_yticks()])\n",
    "        \n",
    "        # Remove the top and right spines\n",
    "        sns.despine(ax=ax[i], top=True, right=True)\n",
    "    \n",
    "    # Adjust layout\n",
    "    plt.tight_layout()\n",
    "    \n",
    "    # Save the figure if a file path is provided\n",
    "    if file_path:\n",
    "        fig.savefig(file_path, dpi=300, bbox_inches='tight')\n",
    "    \n",
    "    # Add a title if model_name is provided\n",
    "    if model_name:\n",
    "        plt.suptitle(f'Training and Validation Metrics\\n{model_name}', fontsize=16, fontweight='bold', y=1.1)\n",
    "    \n",
    "    # Show the plot\n",
    "    plt.show()"
   ]
  },
  {
   "cell_type": "code",
   "execution_count": 22,
   "id": "37a77f5b",
   "metadata": {},
   "outputs": [
    {
     "name": "stdout",
     "output_type": "stream",
     "text": [
      "\u001b[1mShape of One-Hot Encoded Labels for y_train: \u001b[0m(7157, 3)\n",
      "\u001b[1mShape of One-Hot Encoded Labels for y_val: \u001b[0m(2386, 3)\n",
      "\u001b[1m\n",
      "First 5 rows of One-Hot Encoded Labels for y_train:\u001b[0m\n",
      "[[0. 0. 1.]\n",
      " [0. 1. 0.]\n",
      " [0. 0. 1.]\n",
      " [0. 0. 1.]\n",
      " [0. 0. 1.]]\n"
     ]
    }
   ],
   "source": [
    "# Convert labels to one-hot encoded format\n",
    "y_train_ohe = to_categorical(y_train)\n",
    "y_val_ohe = to_categorical(y_val)\n",
    "\n",
    "# Show the shape of the one-hot encoded labels\n",
    "print(f\"\\033[1mShape of One-Hot Encoded Labels for y_train: \\033[0m{y_train_ohe.shape}\")\n",
    "print(f\"\\033[1mShape of One-Hot Encoded Labels for y_val: \\033[0m{y_val_ohe.shape}\")\n",
    "\n",
    "# Display the first 5 rows of the one-hot encoded labels\n",
    "print(\"\\033[1m\\nFirst 5 rows of One-Hot Encoded Labels for y_train:\\033[0m\")\n",
    "print(y_train_ohe[:5])"
   ]
  },
  {
   "cell_type": "markdown",
   "id": "928174d1",
   "metadata": {},
   "source": [
    "---"
   ]
  },
  {
   "cell_type": "markdown",
   "id": "1c4aa4d7",
   "metadata": {},
   "source": [
    "### **LSTM with Transformer-based Features ([FinTwitBERT-sentiment](https://huggingface.co/StephanAkkerman/FinTwitBERT-sentiment))**\n",
    "\n",
    "- Same logic as the previous model, but using the FinTwitBERT model to obtain the embeddings."
   ]
  },
  {
   "cell_type": "markdown",
   "id": "7bcaf793",
   "metadata": {},
   "source": [
    "#### **🧪 Model Training**"
   ]
  },
  {
   "cell_type": "code",
   "execution_count": 23,
   "id": "80698f81",
   "metadata": {},
   "outputs": [
    {
     "name": "stdout",
     "output_type": "stream",
     "text": [
      "Epoch 1/15\n",
      "\u001b[1m112/112\u001b[0m \u001b[32m━━━━━━━━━━━━━━━━━━━━\u001b[0m\u001b[37m\u001b[0m \u001b[1m9s\u001b[0m 77ms/step - accuracy: 0.8409 - auc: 0.9514 - f1_score: 0.7876 - loss: 0.3954 - precision: 0.8822 - recall: 0.7994 - val_accuracy: 0.8965 - val_auc: 0.9803 - val_f1_score: 0.8665 - val_loss: 0.2684 - val_precision: 0.9075 - val_recall: 0.8885 - learning_rate: 0.0010\n",
      "Epoch 2/15\n",
      "\u001b[1m112/112\u001b[0m \u001b[32m━━━━━━━━━━━━━━━━━━━━\u001b[0m\u001b[37m\u001b[0m \u001b[1m8s\u001b[0m 74ms/step - accuracy: 0.9096 - auc: 0.9830 - f1_score: 0.8796 - loss: 0.2462 - precision: 0.9176 - recall: 0.9028 - val_accuracy: 0.8969 - val_auc: 0.9805 - val_f1_score: 0.8675 - val_loss: 0.2703 - val_precision: 0.9000 - val_recall: 0.8906 - learning_rate: 0.0010\n",
      "Epoch 3/15\n",
      "\u001b[1m112/112\u001b[0m \u001b[32m━━━━━━━━━━━━━━━━━━━━\u001b[0m\u001b[37m\u001b[0m \u001b[1m8s\u001b[0m 75ms/step - accuracy: 0.9189 - auc: 0.9862 - f1_score: 0.8954 - loss: 0.2204 - precision: 0.9258 - recall: 0.9107 - val_accuracy: 0.8998 - val_auc: 0.9821 - val_f1_score: 0.8724 - val_loss: 0.2576 - val_precision: 0.9085 - val_recall: 0.8944 - learning_rate: 0.0010\n",
      "Epoch 4/15\n",
      "\u001b[1m112/112\u001b[0m \u001b[32m━━━━━━━━━━━━━━━━━━━━\u001b[0m\u001b[37m\u001b[0m \u001b[1m8s\u001b[0m 70ms/step - accuracy: 0.9322 - auc: 0.9897 - f1_score: 0.9108 - loss: 0.1886 - precision: 0.9375 - recall: 0.9248 - val_accuracy: 0.8902 - val_auc: 0.9781 - val_f1_score: 0.8540 - val_loss: 0.2860 - val_precision: 0.8959 - val_recall: 0.8839 - learning_rate: 0.0010\n",
      "Epoch 5/15\n",
      "\u001b[1m112/112\u001b[0m \u001b[32m━━━━━━━━━━━━━━━━━━━━\u001b[0m\u001b[37m\u001b[0m \u001b[1m7s\u001b[0m 59ms/step - accuracy: 0.9321 - auc: 0.9906 - f1_score: 0.9098 - loss: 0.1814 - precision: 0.9387 - recall: 0.9260 - val_accuracy: 0.8977 - val_auc: 0.9813 - val_f1_score: 0.8701 - val_loss: 0.2710 - val_precision: 0.9022 - val_recall: 0.8935 - learning_rate: 0.0010\n",
      "Epoch 6/15\n",
      "\u001b[1m112/112\u001b[0m \u001b[32m━━━━━━━━━━━━━━━━━━━━\u001b[0m\u001b[37m\u001b[0m \u001b[1m0s\u001b[0m 47ms/step - accuracy: 0.9426 - auc: 0.9937 - f1_score: 0.9251 - loss: 0.1500 - precision: 0.9457 - recall: 0.9383\n",
      "Epoch 6: ReduceLROnPlateau reducing learning rate to 0.00020000000949949026.\n",
      "\u001b[1m112/112\u001b[0m \u001b[32m━━━━━━━━━━━━━━━━━━━━\u001b[0m\u001b[37m\u001b[0m \u001b[1m7s\u001b[0m 60ms/step - accuracy: 0.9425 - auc: 0.9937 - f1_score: 0.9250 - loss: 0.1500 - precision: 0.9457 - recall: 0.9383 - val_accuracy: 0.8927 - val_auc: 0.9785 - val_f1_score: 0.8608 - val_loss: 0.2951 - val_precision: 0.8956 - val_recall: 0.8919 - learning_rate: 0.0010\n",
      "Epoch 7/15\n",
      "\u001b[1m112/112\u001b[0m \u001b[32m━━━━━━━━━━━━━━━━━━━━\u001b[0m\u001b[37m\u001b[0m \u001b[1m6s\u001b[0m 54ms/step - accuracy: 0.9557 - auc: 0.9963 - f1_score: 0.9413 - loss: 0.1161 - precision: 0.9592 - recall: 0.9535 - val_accuracy: 0.9036 - val_auc: 0.9784 - val_f1_score: 0.8768 - val_loss: 0.2960 - val_precision: 0.9058 - val_recall: 0.9023 - learning_rate: 2.0000e-04\n",
      "Epoch 8/15\n",
      "\u001b[1m112/112\u001b[0m \u001b[32m━━━━━━━━━━━━━━━━━━━━\u001b[0m\u001b[37m\u001b[0m \u001b[1m6s\u001b[0m 53ms/step - accuracy: 0.9755 - auc: 0.9983 - f1_score: 0.9669 - loss: 0.0787 - precision: 0.9779 - recall: 0.9735 - val_accuracy: 0.9011 - val_auc: 0.9776 - val_f1_score: 0.8733 - val_loss: 0.3075 - val_precision: 0.9029 - val_recall: 0.9003 - learning_rate: 2.0000e-04\n",
      "Epoch 8: early stopping\n",
      "Restoring model weights from the end of the best epoch: 3.\n",
      "\u001b[1mExecution Time: \u001b[0m60.00 seconds (0:00:59.995347 h)\n"
     ]
    }
   ],
   "source": [
    "# ----------------------------------- [FinTwitBERT (Finetuned) + LSTM] -----------------------------------\n",
    "# Start the timer for execution time\n",
    "start_time = time.time()\n",
    "\n",
    "# Initialize the LSTM model with FinTwitBERT input shape\n",
    "input_shape_FinTwitBERT = (X_train_FinTwitBERT[0].shape[0],)  # (768,)\n",
    "\n",
    "# Best combination of hyperparameters for FinTwitBERT: LSTM_FinTwitBERT_b64_u128_d0.3 (batch_size=64, lstm_units=128, dropout_rate=0.3)\n",
    "lstm_FinTwitBERT = LSTMModel(input_shape=input_shape_FinTwitBERT, lstm_units=128, dropout_rate=0.3, num_classes=3, padding=False)\n",
    "\n",
    "# Compile the model with the specified optimizer, loss function, and metrics\n",
    "optimizer = Adam(learning_rate=0.001, weight_decay=0.01, name=\"Optimizer\")                                        # Adam for faster convergence\n",
    "loss = CategoricalCrossentropy(name=\"Loss\")                                                                       # Suitable for multi-class one-hot labels\n",
    "metrics = [CategoricalAccuracy(name=\"accuracy\"), Precision(name=\"precision\"), Recall(name=\"recall\"), F1Score(average=\"macro\", name=\"f1_score\"), AUC(name=\"auc\")]\n",
    "lstm_FinTwitBERT.compile(optimizer=optimizer, loss=loss, metrics=metrics)\n",
    "\n",
    "# Define the callbacks for the model\n",
    "callbacks = [\n",
    "    EarlyStopping(monitor='val_loss', patience=5, restore_best_weights=True, verbose=1),                                         # Stop training if validation loss doesn't improve for 5 epochs\n",
    "    CSVLogger(filename=\"./ModelsEvaluation_FinalSolution/LSTM/LSTM&FinTwitBERT_training_log.csv\", append=False, separator=','),                # Log training history to a CSV file\n",
    "    ReduceLROnPlateau(monitor='val_loss', factor=0.2, patience=3, min_lr=1e-6, verbose=1)                                        # Reduce learning rate if validation loss plateaus\n",
    "]\n",
    "\n",
    "# Train the model with the training data and validation data\n",
    "history_FinTwitBERT = lstm_FinTwitBERT.fit(\n",
    "    np.stack(X_train_FinTwitBERT), y_train_ohe,\n",
    "    validation_data=(np.stack(X_val_FinTwitBERT), y_val_ohe),\n",
    "    epochs=15,\n",
    "    batch_size=64,\n",
    "    callbacks=callbacks,\n",
    "    verbose=1\n",
    ")\n",
    "\n",
    "# Calculate the execution time and print it\n",
    "train_time_FinTwitBERT = time.time() - start_time\n",
    "print(f\"\\033[1mExecution Time: \\033[0m{train_time_FinTwitBERT:.2f} seconds ({str(datetime.timedelta(seconds=train_time_FinTwitBERT))} h)\")"
   ]
  },
  {
   "cell_type": "markdown",
   "id": "67c3c85d",
   "metadata": {},
   "source": [
    "#### **📏 Model Evaluation**"
   ]
  },
  {
   "cell_type": "code",
   "execution_count": 24,
   "id": "480f1b87",
   "metadata": {},
   "outputs": [
    {
     "name": "stdout",
     "output_type": "stream",
     "text": [
      "\u001b[1m75/75\u001b[0m \u001b[32m━━━━━━━━━━━━━━━━━━━━\u001b[0m\u001b[37m\u001b[0m \u001b[1m2s\u001b[0m 23ms/step\n"
     ]
    }
   ],
   "source": [
    "# Predict on test set\n",
    "y_pred_test_FinTwitBERT_proba = lstm_FinTwitBERT.predict(np.stack(X_test_FinTwitBERT), batch_size=32)\n",
    "y_pred_test_FinTwitBERT = np.argmax(y_pred_test_FinTwitBERT_proba, axis=1)\n",
    "\n",
    "# Save the predictions to a CSV file\n",
    "FinTwitBERT_lstm_predictions_df = pd.DataFrame({\n",
    "    'id': tweets_test_data['id'],\n",
    "    'label': y_pred_test_FinTwitBERT\n",
    "})\n",
    "FinTwitBERT_lstm_predictions_df.to_csv(\"./Predictions_FinalSolution/1_LSTM&FinTwitBERT_TestPredictions.csv\", index=False)"
   ]
  },
  {
   "cell_type": "markdown",
   "id": "e68b0011",
   "metadata": {},
   "source": [
    "---"
   ]
  },
  {
   "cell_type": "markdown",
   "id": "e76c0e47",
   "metadata": {},
   "source": [
    "### **LSTM with Transformer-based Features ([DeBERTa V3 Base](https://huggingface.co/sileod/deberta-v3-base-tasksource-nli))**\n",
    "\n",
    "- Since the output of the DeBERTa model is `(number_of_tweets, 768)`, where `768` is the embedding dimension, we already extracted the [CLS] token embedding for each tweet. This single vector, with a shape of `(768,)`, is a dense representation of the entire tweet's meaning. We have a single vector per tweet.\n",
    "  - So, we will use this vector as input to the LSTM model and treat it as a sequence with a single timestep."
   ]
  },
  {
   "cell_type": "markdown",
   "id": "afe56d66",
   "metadata": {},
   "source": [
    "#### **🧪 Model Training**"
   ]
  },
  {
   "cell_type": "code",
   "execution_count": 25,
   "id": "b473decb",
   "metadata": {},
   "outputs": [
    {
     "data": {
      "text/plain": [
       "768"
      ]
     },
     "execution_count": 25,
     "metadata": {},
     "output_type": "execute_result"
    }
   ],
   "source": [
    "X_train_deberta[0].shape[0]  # Check the shape of the DeBERTa embeddings"
   ]
  },
  {
   "cell_type": "code",
   "execution_count": 26,
   "id": "ec3c0248",
   "metadata": {},
   "outputs": [
    {
     "name": "stdout",
     "output_type": "stream",
     "text": [
      "Epoch 1/25\n",
      "\u001b[1m112/112\u001b[0m \u001b[32m━━━━━━━━━━━━━━━━━━━━\u001b[0m\u001b[37m\u001b[0m \u001b[1m6s\u001b[0m 52ms/step - accuracy: 0.7484 - auc: 0.9028 - f1_score: 0.6410 - loss: 0.5852 - precision: 0.7939 - recall: 0.6926 - val_accuracy: 0.8248 - val_auc: 0.9503 - val_f1_score: 0.7767 - val_loss: 0.4240 - val_precision: 0.8338 - val_recall: 0.8160 - learning_rate: 0.0010\n",
      "Epoch 2/25\n",
      "\u001b[1m112/112\u001b[0m \u001b[32m━━━━━━━━━━━━━━━━━━━━\u001b[0m\u001b[37m\u001b[0m \u001b[1m6s\u001b[0m 56ms/step - accuracy: 0.8335 - auc: 0.9529 - f1_score: 0.7806 - loss: 0.4115 - precision: 0.8457 - recall: 0.8222 - val_accuracy: 0.8269 - val_auc: 0.9517 - val_f1_score: 0.7735 - val_loss: 0.4177 - val_precision: 0.8328 - val_recall: 0.8164 - learning_rate: 0.0010\n",
      "Epoch 3/25\n",
      "\u001b[1m112/112\u001b[0m \u001b[32m━━━━━━━━━━━━━━━━━━━━\u001b[0m\u001b[37m\u001b[0m \u001b[1m6s\u001b[0m 56ms/step - accuracy: 0.8418 - auc: 0.9585 - f1_score: 0.7953 - loss: 0.3879 - precision: 0.8522 - recall: 0.8297 - val_accuracy: 0.8319 - val_auc: 0.9545 - val_f1_score: 0.7778 - val_loss: 0.4100 - val_precision: 0.8344 - val_recall: 0.8256 - learning_rate: 0.0010\n",
      "Epoch 4/25\n",
      "\u001b[1m112/112\u001b[0m \u001b[32m━━━━━━━━━━━━━━━━━━━━\u001b[0m\u001b[37m\u001b[0m \u001b[1m7s\u001b[0m 59ms/step - accuracy: 0.8494 - auc: 0.9624 - f1_score: 0.8053 - loss: 0.3693 - precision: 0.8591 - recall: 0.8408 - val_accuracy: 0.8324 - val_auc: 0.9570 - val_f1_score: 0.7931 - val_loss: 0.3922 - val_precision: 0.8416 - val_recall: 0.8261 - learning_rate: 0.0010\n",
      "Epoch 5/25\n",
      "\u001b[1m112/112\u001b[0m \u001b[32m━━━━━━━━━━━━━━━━━━━━\u001b[0m\u001b[37m\u001b[0m \u001b[1m7s\u001b[0m 61ms/step - accuracy: 0.8472 - auc: 0.9636 - f1_score: 0.8020 - loss: 0.3640 - precision: 0.8577 - recall: 0.8404 - val_accuracy: 0.8504 - val_auc: 0.9616 - val_f1_score: 0.8090 - val_loss: 0.3761 - val_precision: 0.8575 - val_recall: 0.8449 - learning_rate: 0.0010\n",
      "Epoch 6/25\n",
      "\u001b[1m112/112\u001b[0m \u001b[32m━━━━━━━━━━━━━━━━━━━━\u001b[0m\u001b[37m\u001b[0m \u001b[1m7s\u001b[0m 60ms/step - accuracy: 0.8654 - auc: 0.9688 - f1_score: 0.8258 - loss: 0.3341 - precision: 0.8742 - recall: 0.8551 - val_accuracy: 0.8479 - val_auc: 0.9608 - val_f1_score: 0.8091 - val_loss: 0.3770 - val_precision: 0.8585 - val_recall: 0.8416 - learning_rate: 0.0010\n",
      "Epoch 7/25\n",
      "\u001b[1m112/112\u001b[0m \u001b[32m━━━━━━━━━━━━━━━━━━━━\u001b[0m\u001b[37m\u001b[0m \u001b[1m7s\u001b[0m 62ms/step - accuracy: 0.8715 - auc: 0.9707 - f1_score: 0.8338 - loss: 0.3249 - precision: 0.8798 - recall: 0.8626 - val_accuracy: 0.8491 - val_auc: 0.9595 - val_f1_score: 0.8121 - val_loss: 0.3828 - val_precision: 0.8562 - val_recall: 0.8407 - learning_rate: 0.0010\n",
      "Epoch 8/25\n",
      "\u001b[1m111/112\u001b[0m \u001b[32m━━━━━━━━━━━━━━━━━━━\u001b[0m\u001b[37m━\u001b[0m \u001b[1m0s\u001b[0m 41ms/step - accuracy: 0.8618 - auc: 0.9703 - f1_score: 0.8226 - loss: 0.3253 - precision: 0.8694 - recall: 0.8500\n",
      "Epoch 8: ReduceLROnPlateau reducing learning rate to 0.00020000000949949026.\n",
      "\u001b[1m112/112\u001b[0m \u001b[32m━━━━━━━━━━━━━━━━━━━━\u001b[0m\u001b[37m\u001b[0m \u001b[1m6s\u001b[0m 55ms/step - accuracy: 0.8619 - auc: 0.9703 - f1_score: 0.8228 - loss: 0.3252 - precision: 0.8696 - recall: 0.8501 - val_accuracy: 0.8437 - val_auc: 0.9600 - val_f1_score: 0.8000 - val_loss: 0.3850 - val_precision: 0.8530 - val_recall: 0.8340 - learning_rate: 0.0010\n",
      "Epoch 9/25\n",
      "\u001b[1m112/112\u001b[0m \u001b[32m━━━━━━━━━━━━━━━━━━━━\u001b[0m\u001b[37m\u001b[0m \u001b[1m7s\u001b[0m 60ms/step - accuracy: 0.8875 - auc: 0.9778 - f1_score: 0.8508 - loss: 0.2821 - precision: 0.8931 - recall: 0.8793 - val_accuracy: 0.8529 - val_auc: 0.9630 - val_f1_score: 0.8109 - val_loss: 0.3696 - val_precision: 0.8593 - val_recall: 0.8470 - learning_rate: 2.0000e-04\n",
      "Epoch 10/25\n",
      "\u001b[1m112/112\u001b[0m \u001b[32m━━━━━━━━━━━━━━━━━━━━\u001b[0m\u001b[37m\u001b[0m \u001b[1m7s\u001b[0m 59ms/step - accuracy: 0.8903 - auc: 0.9785 - f1_score: 0.8594 - loss: 0.2781 - precision: 0.8994 - recall: 0.8837 - val_accuracy: 0.8525 - val_auc: 0.9642 - val_f1_score: 0.8119 - val_loss: 0.3683 - val_precision: 0.8593 - val_recall: 0.8470 - learning_rate: 2.0000e-04\n",
      "Epoch 11/25\n",
      "\u001b[1m112/112\u001b[0m \u001b[32m━━━━━━━━━━━━━━━━━━━━\u001b[0m\u001b[37m\u001b[0m \u001b[1m6s\u001b[0m 57ms/step - accuracy: 0.9014 - auc: 0.9830 - f1_score: 0.8763 - loss: 0.2462 - precision: 0.9078 - recall: 0.8949 - val_accuracy: 0.8567 - val_auc: 0.9635 - val_f1_score: 0.8184 - val_loss: 0.3712 - val_precision: 0.8647 - val_recall: 0.8491 - learning_rate: 2.0000e-04\n",
      "Epoch 12/25\n",
      "\u001b[1m112/112\u001b[0m \u001b[32m━━━━━━━━━━━━━━━━━━━━\u001b[0m\u001b[37m\u001b[0m \u001b[1m7s\u001b[0m 60ms/step - accuracy: 0.9012 - auc: 0.9843 - f1_score: 0.8699 - loss: 0.2363 - precision: 0.9101 - recall: 0.8973 - val_accuracy: 0.8495 - val_auc: 0.9631 - val_f1_score: 0.8095 - val_loss: 0.3734 - val_precision: 0.8562 - val_recall: 0.8437 - learning_rate: 2.0000e-04\n",
      "Epoch 13/25\n",
      "\u001b[1m112/112\u001b[0m \u001b[32m━━━━━━━━━━━━━━━━━━━━\u001b[0m\u001b[37m\u001b[0m \u001b[1m0s\u001b[0m 59ms/step - accuracy: 0.9093 - auc: 0.9852 - f1_score: 0.8830 - loss: 0.2307 - precision: 0.9155 - recall: 0.9024\n",
      "Epoch 13: ReduceLROnPlateau reducing learning rate to 4.0000001899898055e-05.\n",
      "\u001b[1m112/112\u001b[0m \u001b[32m━━━━━━━━━━━━━━━━━━━━\u001b[0m\u001b[37m\u001b[0m \u001b[1m8s\u001b[0m 72ms/step - accuracy: 0.9092 - auc: 0.9852 - f1_score: 0.8830 - loss: 0.2308 - precision: 0.9155 - recall: 0.9023 - val_accuracy: 0.8529 - val_auc: 0.9633 - val_f1_score: 0.8123 - val_loss: 0.3749 - val_precision: 0.8591 - val_recall: 0.8483 - learning_rate: 2.0000e-04\n",
      "Epoch 14/25\n",
      "\u001b[1m112/112\u001b[0m \u001b[32m━━━━━━━━━━━━━━━━━━━━\u001b[0m\u001b[37m\u001b[0m \u001b[1m7s\u001b[0m 64ms/step - accuracy: 0.9023 - auc: 0.9824 - f1_score: 0.8718 - loss: 0.2524 - precision: 0.9068 - recall: 0.8963 - val_accuracy: 0.8521 - val_auc: 0.9633 - val_f1_score: 0.8136 - val_loss: 0.3753 - val_precision: 0.8574 - val_recall: 0.8470 - learning_rate: 4.0000e-05\n",
      "Epoch 15/25\n",
      "\u001b[1m112/112\u001b[0m \u001b[32m━━━━━━━━━━━━━━━━━━━━\u001b[0m\u001b[37m\u001b[0m \u001b[1m7s\u001b[0m 58ms/step - accuracy: 0.9046 - auc: 0.9838 - f1_score: 0.8793 - loss: 0.2405 - precision: 0.9111 - recall: 0.8982 - val_accuracy: 0.8525 - val_auc: 0.9633 - val_f1_score: 0.8141 - val_loss: 0.3762 - val_precision: 0.8601 - val_recall: 0.8474 - learning_rate: 4.0000e-05\n",
      "Epoch 15: early stopping\n",
      "Restoring model weights from the end of the best epoch: 10.\n",
      "\u001b[1mExecution Time: \u001b[0m100.29 seconds (0:01:40.285348 h)\n"
     ]
    }
   ],
   "source": [
    "# ----------------------------------- [DeBERTa + LSTM] -----------------------------------\n",
    "# Start the timer for execution time\n",
    "start_time = time.time()\n",
    "\n",
    "# Initialize the LSTM model with DeBERTa input shape\n",
    "input_shape_deberta = (X_train_deberta[0].shape[0],)  # (768,)\n",
    "\n",
    "# Since we don't hyper-tune DeBERTa, we will use the same hyperparameters as before  \n",
    "lstm_deberta = LSTMModel(input_shape=input_shape_deberta, lstm_units=64, dropout_rate=0.3, num_classes=3, padding=False)\n",
    "\n",
    "# Compile the model with the specified optimizer, loss function, and metrics\n",
    "optimizer = Adam(learning_rate=0.001, weight_decay=0.01, name=\"Optimizer\")                                        # Adam for faster convergence\n",
    "loss = CategoricalCrossentropy(name=\"Loss\")                                                                       # Suitable for multi-class one-hot labels\n",
    "metrics = [CategoricalAccuracy(name=\"accuracy\"), Precision(name=\"precision\"), Recall(name=\"recall\"), F1Score(average=\"macro\", name=\"f1_score\"), AUC(name=\"auc\")]\n",
    "lstm_deberta.compile(optimizer=optimizer, loss=loss, metrics=metrics)\n",
    "\n",
    "# Define the callbacks for the model\n",
    "callbacks = [\n",
    "    EarlyStopping(monitor='val_loss', patience=5, restore_best_weights=True, verbose=1),                                         # Stop training if validation loss doesn't improve for 5 epochs\n",
    "    CSVLogger(filename=\"./ModelsEvaluation_FinalSolution/LSTM/LSTM&DeBERTa_training_log.csv\", append=False, separator=','),      # Log training history to a CSV file\n",
    "    ReduceLROnPlateau(monitor='val_loss', factor=0.2, patience=3, min_lr=1e-6, verbose=1)                                        # Reduce learning rate if validation loss plateaus\n",
    "]\n",
    "\n",
    "# Train the model with the training data and validation data\n",
    "history_deberta = lstm_deberta.fit(\n",
    "    np.stack(X_train_deberta), y_train_ohe,\n",
    "    validation_data=(np.stack(X_val_deberta), y_val_ohe),\n",
    "    epochs=25,\n",
    "    batch_size=64,\n",
    "    callbacks=callbacks,\n",
    "    verbose=1\n",
    ")\n",
    "\n",
    "# Calculate the execution time and print it\n",
    "train_time_deberta = time.time() - start_time\n",
    "print(f\"\\033[1mExecution Time: \\033[0m{train_time_deberta:.2f} seconds ({str(datetime.timedelta(seconds=train_time_deberta))} h)\")"
   ]
  },
  {
   "cell_type": "markdown",
   "id": "e9f7d5ca",
   "metadata": {},
   "source": [
    "#### **📏 Model Evaluation**"
   ]
  },
  {
   "cell_type": "code",
   "execution_count": 27,
   "id": "90102c30",
   "metadata": {},
   "outputs": [
    {
     "name": "stdout",
     "output_type": "stream",
     "text": [
      "\u001b[1m75/75\u001b[0m \u001b[32m━━━━━━━━━━━━━━━━━━━━\u001b[0m\u001b[37m\u001b[0m \u001b[1m2s\u001b[0m 21ms/step\n"
     ]
    }
   ],
   "source": [
    "# Predict on test set\n",
    "y_pred_test_deberta_proba = lstm_deberta.predict(np.stack(X_test_deberta), batch_size=32)\n",
    "y_pred_test_deberta = np.argmax(y_pred_test_deberta_proba, axis=1)\n",
    "\n",
    "# Save the predictions to a CSV file\n",
    "deberta_lstm_predictions_df = pd.DataFrame({\n",
    "    'id': tweets_test_data['id'],\n",
    "    'label': y_pred_test_deberta\n",
    "})\n",
    "deberta_lstm_predictions_df.to_csv(\"./Predictions_FinalSolution/2_LSTM&DeBERTa_TestPredictions.csv\", index=False)"
   ]
  },
  {
   "cell_type": "markdown",
   "id": "7efbec9e",
   "metadata": {},
   "source": [
    "## <span style=\"color: #ffffff;\">[EXTRA 1 & 2] Transformer-based Encoder</span>\n",
    "<br>\n",
    "<style>\n",
    "@import url('https://fonts.cdnfonts.com/css/avenir-next-lt-pro?styles=29974');\n",
    "</style>\n",
    "\n",
    "<div style=\"background: transparent;\n",
    "            padding: 10px; color: white; border-radius: 300px; text-align: center;\n",
    "            border: 2px solid #0B62A3;\">\n",
    "    <center><h2 style=\"margin-left: 120px;margin-top: 10px; margin-bottom: 4px; color: #0B62A3;\n",
    "                       font-size: 24px; font-family: 'Avenir Next LT Pro', sans-serif;\"><b> [EXTRA 1 & 2] Transformer-based Encoder</b></h2></center>\n",
    "</div>"
   ]
  },
  {
   "cell_type": "markdown",
   "id": "97599772",
   "metadata": {},
   "source": [
    "### **🟡 HuggingFace [FinTwitBERT-sentiment](https://huggingface.co/StephanAkkerman/FinTwitBERT-sentiment) Model**"
   ]
  },
  {
   "cell_type": "code",
   "execution_count": 28,
   "id": "43288dd7",
   "metadata": {},
   "outputs": [
    {
     "name": "stdout",
     "output_type": "stream",
     "text": [
      "\u001b[1mLabel:\u001b[0m BULLISH, \u001b[1mScore:\u001b[0m 1.00, \u001b[1mProbabilities:\u001b[0m [0.0002983910671900958, 0.9994373917579651, 0.00026423457893542945]\n"
     ]
    }
   ],
   "source": [
    "# Define the classification pipeline\n",
    "FinTwitBERT_model_path = \"StephanAkkerman/FinTwitBERT-sentiment\"\n",
    "FinTwitBERT_model_classifier = pipeline(\"sentiment-analysis\", model=FinTwitBERT_model_path, device=device)\n",
    "\n",
    "# Define the classification function\n",
    "# Source: https://huggingface.co/StephanAkkerman/FinTwitBERT-sentiment#usage\n",
    "def FinTwitBERT_classify_sentiment(text):\n",
    "    \"\"\"\n",
    "    Classifies a piece of text using FinTwitBERT and returns (label, score, probabilities).\n",
    "    \n",
    "    Args:\n",
    "        text (str or list of str): The text(s) to classify.\n",
    "            - If a single string is provided, it will be classified as a single instance.\n",
    "            - If a list of strings is provided, each string will be classified separately.\n",
    "                \n",
    "    Returns:\n",
    "        tuple: A tuple containing the label, score, and probabilities of the classification.\n",
    "            - label (str): The predicted sentiment label (e.g., \"Bearish\", \"Bullish\", \"Neutral\").\n",
    "            - score (float): The confidence score of the prediction.\n",
    "            - probs (list): List of probabilities for each class [Neutral, Bullish, Bearish].\n",
    "    \"\"\"\n",
    "    \n",
    "    # Perform classification using the FinTwitBERT model\n",
    "    outputs = FinTwitBERT_model_classifier(text, \n",
    "                                           return_all_scores=True)        # returns a list: [{'label': ..., 'score': ...}] \n",
    "    # print(outputs)                                                      # Debugging: Check the output format\n",
    "    \n",
    "    # Extract the list of label-score dicts\n",
    "    result = outputs[0]                                 # Result is a list of dicts\n",
    "    \n",
    "    # Extract the highest scoring label and its score (top prediction)\n",
    "    top_result = max(result, key=lambda x: x['score'])\n",
    "    \n",
    "    # Extract label, score of the top prediction\n",
    "    label = top_result['label']                         # e.g., \"Bearish\", \"Bullish\", \"Neutral\"\n",
    "    score = top_result['score']                         # Confidence score of the top prediction                     \n",
    "    \n",
    "    # Extract probabilities for each class in the order [Neutral, Bullish, Bearish]\n",
    "    label_scores = {entry['label']: entry['score'] for entry in result}\n",
    "    fixed_order_labels = ['NEUTRAL', 'BULLISH', 'BEARISH']         # Fixed order of labels\n",
    "    probs = [label_scores[label] for label in fixed_order_labels]  # Probabilities in the correct order\n",
    "\n",
    "    return label, score, probs\n",
    "\n",
    "# Example usage of the classification function\n",
    "sample_tweet = \"📈 $AAPL looks bullish! Going to the moon! 🚀 Check out https://example.com @analyst predicts #stocks UP! It's amazing!!!\"\n",
    "label, score, proba = FinTwitBERT_classify_sentiment(sample_tweet)\n",
    "print(f\"\\033[1mLabel:\\033[0m {label}, \\033[1mScore:\\033[0m {score:.2f}, \\033[1mProbabilities:\\033[0m {proba}\")"
   ]
  },
  {
   "cell_type": "code",
   "execution_count": 29,
   "id": "2eb3ddea",
   "metadata": {},
   "outputs": [
    {
     "name": "stderr",
     "output_type": "stream",
     "text": [
      "Predicting Train (FinTwitBERT): 100%|██████████| 7157/7157 [02:29<00:00, 47.97 tweet/s]\n",
      "Predicting Validation (FinTwitBERT): 100%|██████████| 2386/2386 [00:51<00:00, 45.95 tweet/s]\n",
      "Predicting Test (FinTwitBERT): 100%|██████████| 2388/2388 [00:48<00:00, 49.51 tweet/s]"
     ]
    },
    {
     "name": "stdout",
     "output_type": "stream",
     "text": [
      "\u001b[1mExecution Time: \u001b[0m249.38 seconds (0:04:09.377391 h)\n"
     ]
    },
    {
     "name": "stderr",
     "output_type": "stream",
     "text": [
      "\n"
     ]
    }
   ],
   "source": [
    "# ----------------------------------- [FinTwitBERT] -----------------------------------\n",
    "# Start the timer for execution time\n",
    "start_time = time.time()\n",
    "\n",
    "# Apply the FinTwitBERT classification function to the 'text' column in the train corpus with tqdm\n",
    "train_predictions = [\n",
    "    FinTwitBERT_classify_sentiment(txt)\n",
    "    for txt in tqdm(X_train['text'], desc=\"Predicting Train (FinTwitBERT)\", unit=\" tweet\")\n",
    "]\n",
    "X_train['label_FinTwitBERT_str'], X_train['FinTwitBERT_score_pred'], X_train['FinTwitBERT_probs'] = zip(*train_predictions)\n",
    "\n",
    "# Apply the FinTwitBERT classification function to the 'text' column in the validation corpus with tqdm\n",
    "val_predictions = [\n",
    "    FinTwitBERT_classify_sentiment(txt)\n",
    "    for txt in tqdm(X_val['text'], desc=\"Predicting Validation (FinTwitBERT)\", unit=\" tweet\")\n",
    "]\n",
    "X_val['label_FinTwitBERT_str'], X_val['FinTwitBERT_score_pred'], X_val['FinTwitBERT_probs'] = zip(*val_predictions)\n",
    "\n",
    "# Apply the FinTwitBERT classification function to the 'text' column in the test corpus with tqdm\n",
    "test_predictions = [\n",
    "    FinTwitBERT_classify_sentiment(txt)\n",
    "    for txt in tqdm(tweets_test_data['text'], desc=\"Predicting Test (FinTwitBERT)\", unit=\" tweet\")\n",
    "]\n",
    "tweets_test_data['label_FinTwitBERT_str'], tweets_test_data['FinTwitBERT_score_pred'], tweets_test_data['FinTwitBERT_probs'] = zip(*test_predictions)\n",
    "\n",
    "# Calculate the execution time and print it\n",
    "train_time_FinTwitBERT = time.time() - start_time\n",
    "print(f\"\\033[1mExecution Time: \\033[0m{train_time_FinTwitBERT:.2f} seconds ({str(datetime.timedelta(seconds=train_time_FinTwitBERT))} h)\")"
   ]
  },
  {
   "cell_type": "code",
   "execution_count": 36,
   "id": "e91a7246",
   "metadata": {},
   "outputs": [],
   "source": [
    "# Convert string labels to numerical labels for classification metrics\n",
    "FinTwitBERT_labels_to_numeric = {'BEARISH': 0, 'BULLISH': 1, 'NEUTRAL': 2}  # Define mapping for FinTwitBERT\n",
    "\n",
    "X_train['label_FinTwitBERT'] = X_train['label_FinTwitBERT_str'].map(FinTwitBERT_labels_to_numeric)                    # Train labels\n",
    "X_val['label_FinTwitBERT'] = X_val['label_FinTwitBERT_str'].map(FinTwitBERT_labels_to_numeric)                        # Validation labels\n",
    "tweets_test_data['label_FinTwitBERT'] = tweets_test_data['label_FinTwitBERT_str'].map(FinTwitBERT_labels_to_numeric)  # Test labels\n",
    "\n",
    "# Save the predictions to a CSV file\n",
    "FinTwitBERT_predictions_df = pd.DataFrame({\n",
    "    'id': tweets_test_data['id'],\n",
    "    'label': tweets_test_data['label_FinTwitBERT']\n",
    "})\n",
    "FinTwitBERT_predictions_df.to_csv('./Predictions_FinalSolution/3_FinTwitBERT_TestPredictions.csv', index=False)"
   ]
  },
  {
   "cell_type": "markdown",
   "id": "2302931e",
   "metadata": {},
   "source": [
    "---"
   ]
  },
  {
   "cell_type": "markdown",
   "id": "09b326e7",
   "metadata": {},
   "source": [
    "## **🥇 Ensemble Model (Majority Voting)**"
   ]
  },
  {
   "cell_type": "code",
   "execution_count": 37,
   "id": "456bf842",
   "metadata": {},
   "outputs": [
    {
     "name": "stdout",
     "output_type": "stream",
     "text": [
      "\n",
      "\u001b[1mPredictions Files:\u001b[0m\n",
      " - 1_LSTM&FinTwitBERT_TestPredictions.csv\n",
      " - 2_LSTM&DeBERTa_TestPredictions.csv\n",
      " - 3_FinTwitBERT_TestPredictions.csv\n",
      " - MajorityVote_Ensemble_TestPredictions.csv\n"
     ]
    }
   ],
   "source": [
    "# Print all predictions files within the Predictions_FinalSolution directory\n",
    "predictions_files = os.listdir('./Predictions_FinalSolution/')\n",
    "print(\"\\n\\033[1mPredictions Files:\\033[0m\")\n",
    "for file in predictions_files:\n",
    "    print(f\" - {file}\")"
   ]
  },
  {
   "cell_type": "code",
   "execution_count": 38,
   "id": "bdb88a4b",
   "metadata": {},
   "outputs": [],
   "source": [
    "# Directory containing prediction files\n",
    "predictions_dir = \"./Predictions_FinalSolution/\"\n",
    "\n",
    "# List of prediction files\n",
    "prediction_files = [\n",
    "    \"1_LSTM&FinTwitBERT_TestPredictions.csv\",\n",
    "    \"2_LSTM&DeBERTa_TestPredictions.csv\",\n",
    "    \"3_FinTwitBERT_TestPredictions.csv\",\n",
    "]"
   ]
  },
  {
   "cell_type": "code",
   "execution_count": 39,
   "id": "4560b03c",
   "metadata": {},
   "outputs": [],
   "source": [
    "# Function to perform majority voting\n",
    "def majority_vote(labels):\n",
    "    \"\"\"\n",
    "    Returns the label with the most votes. In case of a tie, returns the first label encountered.\n",
    "    \n",
    "    Args:\n",
    "        labels (list): List of labels for a single sample.\n",
    "        \n",
    "    Returns:\n",
    "        int: The majority vote label.\n",
    "    \"\"\"\n",
    "    vote_count = Counter(labels)\n",
    "    max_count = max(vote_count.values())\n",
    "    \n",
    "    # Check for ties by counting how many labels have the max count\n",
    "    tied_labels = [label for label, count in vote_count.items() if count == max_count]\n",
    "    \n",
    "    # If there is more than one label with the max count, return neutral (2)\n",
    "    if len(tied_labels) > 1:\n",
    "        return 2 # 'Neutral' label\n",
    "    \n",
    "    # Otherwise, return the label with the max count\n",
    "    return tied_labels[0]"
   ]
  },
  {
   "cell_type": "code",
   "execution_count": 40,
   "id": "d33d429b",
   "metadata": {},
   "outputs": [
    {
     "name": "stderr",
     "output_type": "stream",
     "text": [
      "Computing Majority Vote: 100%|██████████| 2388/2388 [00:01<00:00, 1780.65it/s]"
     ]
    },
    {
     "name": "stdout",
     "output_type": "stream",
     "text": [
      "\n",
      "\u001b[1mEnsemble Predictions_FinalSolution Summary:\u001b[0m\n"
     ]
    },
    {
     "name": "stderr",
     "output_type": "stream",
     "text": [
      "\n"
     ]
    },
    {
     "data": {
      "text/html": [
       "<div>\n",
       "<style scoped>\n",
       "    .dataframe tbody tr th:only-of-type {\n",
       "        vertical-align: middle;\n",
       "    }\n",
       "\n",
       "    .dataframe tbody tr th {\n",
       "        vertical-align: top;\n",
       "    }\n",
       "\n",
       "    .dataframe thead th {\n",
       "        text-align: right;\n",
       "    }\n",
       "</style>\n",
       "<table border=\"1\" class=\"dataframe\">\n",
       "  <thead>\n",
       "    <tr style=\"text-align: right;\">\n",
       "      <th></th>\n",
       "      <th>n</th>\n",
       "      <th>%</th>\n",
       "    </tr>\n",
       "    <tr>\n",
       "      <th>label</th>\n",
       "      <th></th>\n",
       "      <th></th>\n",
       "    </tr>\n",
       "  </thead>\n",
       "  <tbody>\n",
       "    <tr>\n",
       "      <th>Neutral</th>\n",
       "      <td>1531</td>\n",
       "      <td>64.1</td>\n",
       "    </tr>\n",
       "    <tr>\n",
       "      <th>Bullish</th>\n",
       "      <td>467</td>\n",
       "      <td>19.6</td>\n",
       "    </tr>\n",
       "    <tr>\n",
       "      <th>Bearish</th>\n",
       "      <td>390</td>\n",
       "      <td>16.3</td>\n",
       "    </tr>\n",
       "  </tbody>\n",
       "</table>\n",
       "</div>"
      ],
      "text/plain": [
       "            n     %\n",
       "label              \n",
       "Neutral  1531  64.1\n",
       "Bullish   467  19.6\n",
       "Bearish   390  16.3"
      ]
     },
     "execution_count": 40,
     "metadata": {},
     "output_type": "execute_result"
    }
   ],
   "source": [
    "# Load and merge all prediction files\n",
    "def load_predictions(files, directory):\n",
    "    \"\"\"\n",
    "    Loads all prediction CSV files and merges them on 'id'.\n",
    "    \n",
    "    Args:\n",
    "        files (list): List of prediction file names.\n",
    "        directory (str): Path to the predictions directory.\n",
    "        \n",
    "    Returns:\n",
    "        pd.DataFrame: Merged DataFrame with 'id' and labels from each model.\n",
    "    \"\"\"\n",
    "    dfs = []\n",
    "    for file in files:\n",
    "        df = pd.read_csv(os.path.join(directory, file))\n",
    "        model_name = file.replace(\"_TestPredictions.csv\", \"\")\n",
    "        df = df.rename(columns={\"label\": f\"label_{model_name}\"})\n",
    "        dfs.append(df[[\"id\", f\"label_{model_name}\"]])\n",
    "    \n",
    "    # Merge all DataFrames on 'id'\n",
    "    merged_df = dfs[0]\n",
    "    for df in dfs[1:]:\n",
    "        merged_df = merged_df.merge(df, on=\"id\", how=\"outer\")\n",
    "    \n",
    "    return merged_df\n",
    "\n",
    "# Perform majority voting\n",
    "def compute_majority_vote(merged_df):\n",
    "    \"\"\"\n",
    "    Computes majority vote for each sample in the merged DataFrame.\n",
    "    \n",
    "    Args:\n",
    "        merged_df (pd.DataFrame): DataFrame with 'id' and label columns from each model.\n",
    "        \n",
    "    Returns:\n",
    "        pd.DataFrame: DataFrame with 'id' and 'label' (majority vote result).\n",
    "    \"\"\"\n",
    "    # Get label columns (all columns except 'id')\n",
    "    label_columns = [col for col in merged_df.columns if col.startswith(\"label_\")]\n",
    "    \n",
    "    # Initialize result DataFrame\n",
    "    result = pd.DataFrame({\"id\": merged_df[\"id\"], \"label\": None})\n",
    "    \n",
    "    # Compute majority vote for each row\n",
    "    for idx in tqdm(range(len(merged_df)), desc=\"Computing Majority Vote\"):\n",
    "        labels = merged_df.iloc[idx][label_columns].dropna().astype(int).tolist()\n",
    "        result.at[idx, \"label\"] = majority_vote(labels)\n",
    "    \n",
    "    result[\"label\"] = result[\"label\"].astype(int)\n",
    "    return result\n",
    "\n",
    "# Load predictions from specified files and compute majority vote\n",
    "merged_predictions = load_predictions(prediction_files, predictions_dir)\n",
    "ensemble_predictions = compute_majority_vote(merged_predictions)\n",
    "\n",
    "# Save ensemble predictions to CSV\n",
    "output_file = \"./Predictions_FinalSolution/MajorityVote_Ensemble_TestPredictions.csv\"\n",
    "ensemble_predictions.to_csv(output_file, index=False)\n",
    "\n",
    "# Display summary of predictions\n",
    "print(\"\\n\\033[1mEnsemble Predictions_FinalSolution Summary:\\033[0m\")\n",
    "pd.DataFrame({\n",
    "    'n': ensemble_predictions[\"label\"].value_counts().rename({0: \"Bearish\", 1: \"Bullish\", 2: \"Neutral\"}),\n",
    "    '%': round(ensemble_predictions[\"label\"].value_counts(normalize=True).rename({0: \"Bearish\", 1: \"Bullish\", 2: \"Neutral\"}) * 100, 1)\n",
    "})"
   ]
  },
  {
   "cell_type": "code",
   "execution_count": 41,
   "id": "69a41489",
   "metadata": {},
   "outputs": [
    {
     "name": "stdout",
     "output_type": "stream",
     "text": [
      "\u001b[1m224/224\u001b[0m \u001b[32m━━━━━━━━━━━━━━━━━━━━\u001b[0m\u001b[37m\u001b[0m \u001b[1m5s\u001b[0m 24ms/step\n",
      "\u001b[1m75/75\u001b[0m \u001b[32m━━━━━━━━━━━━━━━━━━━━\u001b[0m\u001b[37m\u001b[0m \u001b[1m2s\u001b[0m 22ms/step\n",
      "\u001b[1m224/224\u001b[0m \u001b[32m━━━━━━━━━━━━━━━━━━━━\u001b[0m\u001b[37m\u001b[0m \u001b[1m4s\u001b[0m 20ms/step\n",
      "\u001b[1m75/75\u001b[0m \u001b[32m━━━━━━━━━━━━━━━━━━━━\u001b[0m\u001b[37m\u001b[0m \u001b[1m1s\u001b[0m 17ms/step\n"
     ]
    },
    {
     "name": "stderr",
     "output_type": "stream",
     "text": [
      "Computing Majority Vote: 100%|██████████| 7157/7157 [00:03<00:00, 2162.00it/s]\n",
      "Computing Majority Vote: 100%|██████████| 2386/2386 [00:01<00:00, 2336.91it/s]\n"
     ]
    }
   ],
   "source": [
    "# Generate predictions for training and validation sets\n",
    "# Model 1: LSTM with FinTwitBERT\n",
    "y_pred_train_FinTwitBERT_proba = lstm_FinTwitBERT.predict(np.stack(X_train_FinTwitBERT), batch_size=32)\n",
    "y_pred_train_FinTwitBERT = np.argmax(y_pred_train_FinTwitBERT_proba, axis=1)\n",
    "y_pred_val_FinTwitBERT_proba = lstm_FinTwitBERT.predict(np.stack(X_val_FinTwitBERT), batch_size=32)\n",
    "y_pred_val_FinTwitBERT = np.argmax(y_pred_val_FinTwitBERT_proba, axis=1)\n",
    "\n",
    "# Model 2: LSTM with DeBERTa\n",
    "y_pred_train_deberta_proba = lstm_deberta.predict(np.stack(X_train_deberta), batch_size=32)\n",
    "y_pred_train_deberta = np.argmax(y_pred_train_deberta_proba, axis=1)\n",
    "y_pred_val_deberta_proba = lstm_deberta.predict(np.stack(X_val_deberta), batch_size=32)\n",
    "y_pred_val_deberta = np.argmax(y_pred_val_deberta_proba, axis=1)\n",
    "\n",
    "# Model 3: FinTwitBERT-sentiment\n",
    "\n",
    "y_pred_train_FinTwitBERT_direct = X_train['label_FinTwitBERT'].values\n",
    "y_pred_val_FinTwitBERT_direct = X_val['label_FinTwitBERT'].values\n",
    "\n",
    "# Create DataFrames with predictions\n",
    "train_predictions_df = pd.DataFrame({\n",
    "    'id': X_train.index,\n",
    "    'label_LSTM&FinTwitBERT': y_pred_train_FinTwitBERT,\n",
    "    'label_LSTM&DeBERTa': y_pred_train_deberta,\n",
    "    'label_FinTwitBERT': y_pred_train_FinTwitBERT_direct\n",
    "})\n",
    "\n",
    "val_predictions_df = pd.DataFrame({\n",
    "    'id': X_val.index,\n",
    "    'label_LSTM&FinTwitBERT': y_pred_val_FinTwitBERT,\n",
    "    'label_LSTM&DeBERTa': y_pred_val_deberta,\n",
    "    'label_FinTwitBERT': y_pred_val_FinTwitBERT_direct\n",
    "})\n",
    "\n",
    "# Compute ensemble predictions\n",
    "ensemble_train_predictions = compute_majority_vote(train_predictions_df)\n",
    "ensemble_val_predictions = compute_majority_vote(val_predictions_df)"
   ]
  },
  {
   "cell_type": "code",
   "execution_count": 42,
   "id": "b7acce21",
   "metadata": {},
   "outputs": [
    {
     "data": {
      "text/html": [
       "<h1 style=\"text-align: left; margin-bottom: -15px;\">Ensemble Model (Majority Voting)</h1><br>"
      ]
     },
     "metadata": {},
     "output_type": "display_data"
    },
    {
     "name": "stdout",
     "output_type": "stream",
     "text": [
      "___________________________________________________________________________________________________________\n",
      "                                                     TRAIN                                                 \n",
      "-----------------------------------------------------------------------------------------------------------\n",
      "              precision    recall  f1-score   support\n",
      "\n",
      " Bearish (0)       0.85      0.91      0.88      1082\n",
      " Bullish (1)       0.90      0.89      0.89      1442\n",
      " Neutral (2)       0.96      0.94      0.95      4633\n",
      "\n",
      "    accuracy                           0.93      7157\n",
      "   macro avg       0.90      0.91      0.91      7157\n",
      "weighted avg       0.93      0.93      0.93      7157\n",
      "\n",
      "\n",
      "AUROC: N/A\n",
      "___________________________________________________________________________________________________________\n",
      "                                                VALIDATION                                                 \n",
      "-----------------------------------------------------------------------------------------------------------\n",
      "              precision    recall  f1-score   support\n",
      "\n",
      " Bearish (0)       0.81      0.90      0.85       360\n",
      " Bullish (1)       0.85      0.83      0.84       481\n",
      " Neutral (2)       0.94      0.92      0.93      1545\n",
      "\n",
      "    accuracy                           0.90      2386\n",
      "   macro avg       0.87      0.88      0.87      2386\n",
      "weighted avg       0.90      0.90      0.90      2386\n",
      "\n",
      "\n",
      "AUROC: N/A\n"
     ]
    },
    {
     "data": {
      "image/png": "[encoded data removed]",
      "text/plain": [
       "<Figure size 1000x500 with 2 Axes>"
      ]
     },
     "metadata": {},
     "output_type": "display_data"
    },
    {
     "data": {
      "text/html": [
       "<h1 style=\"text-align: left; margin-bottom: -15px;\">Classification Metrics | Ensemble Model (Majority Voting)</h1><br><div style=\"display: flex;\"><div style=\"margin-right: 20px;\"><h3 style=\"text-align: center;color:#555555;\">Training Data</h3><table style=\"display:inline; margin-right: 20px;\" border=\"1\" class=\"dataframe\">\n",
       "  <thead>\n",
       "    <tr style=\"text-align: right;\">\n",
       "      <th></th>\n",
       "      <th>Time of Execution</th>\n",
       "      <th>Accuracy</th>\n",
       "      <th>Precision</th>\n",
       "      <th>Recall</th>\n",
       "      <th>F1 Score (Macro)</th>\n",
       "      <th>AUROC</th>\n",
       "    </tr>\n",
       "  </thead>\n",
       "  <tbody>\n",
       "    <tr>\n",
       "      <th>Ensemble Model (Majority Voting)</th>\n",
       "      <td>0</td>\n",
       "      <td>0.93</td>\n",
       "      <td>0.9</td>\n",
       "      <td>0.91</td>\n",
       "      <td>0.91</td>\n",
       "      <td>N/A</td>\n",
       "    </tr>\n",
       "  </tbody>\n",
       "</table style=\"display:inline; margin-right: 20px;\"></div><div style=\"margin-right: 20px;\"><h3 style=\"text-align: center;color:#555555;\">Validation Data</h3><table style=\"display:inline; margin-right: 20px;\" border=\"1\" class=\"dataframe\">\n",
       "  <thead>\n",
       "    <tr style=\"text-align: right;\">\n",
       "      <th></th>\n",
       "      <th>Accuracy</th>\n",
       "      <th>Precision</th>\n",
       "      <th>Recall</th>\n",
       "      <th>F1 Score (Macro)</th>\n",
       "      <th>AUROC</th>\n",
       "    </tr>\n",
       "  </thead>\n",
       "  <tbody>\n",
       "    <tr>\n",
       "      <th>Ensemble Model (Majority Voting)</th>\n",
       "      <td>0.9</td>\n",
       "      <td>0.87</td>\n",
       "      <td>0.88</td>\n",
       "      <td>0.87</td>\n",
       "      <td>N/A</td>\n",
       "    </tr>\n",
       "  </tbody>\n",
       "</table style=\"display:inline; margin-right: 20px;\"></div></div>"
      ]
     },
     "metadata": {},
     "output_type": "display_data"
    }
   ],
   "source": [
    "# Evaluate ensemble model using classification_metrics function\n",
    "ensemble_train_results, ensemble_val_results = classification_metrics(\n",
    "    'Ensemble Model (Majority Voting)',\n",
    "    y_train, ensemble_train_predictions['label'],\n",
    "    y_val, ensemble_val_predictions['label'],\n",
    "    time_execution=0,\n",
    "    y_pred_train_proba=None,\n",
    "    y_pred_val_proba=None,\n",
    "    classification_report_show=True\n",
    ")\n",
    "\n",
    "# Display results\n",
    "display_side_by_side(\n",
    "    pd.DataFrame(ensemble_train_results).T,\n",
    "    pd.DataFrame(ensemble_val_results).T,\n",
    "    titles=['Training Data', 'Validation Data'],\n",
    "    super_title='Classification Metrics | Ensemble Model (Majority Voting)'\n",
    ")"
   ]
  },
  {
   "cell_type": "markdown",
   "id": "868bb9d7",
   "metadata": {},
   "source": [
    "---"
   ]
  },
  {
   "cell_type": "markdown",
   "id": "922625de",
   "metadata": {},
   "source": [
    "# **🔗 Bibliography/References**\n"
   ]
  },
  {
   "cell_type": "markdown",
   "id": "7033e29d",
   "metadata": {},
   "source": [
    "**[[1]](https://smartasset.com/financial-advisor/bullish-vs-bearish)** Reed, Eric. “Bullish vs. Bearish: What’s the Difference?” SmartAsset, 16 Mar. 2021, smartasset.com/financial-advisor/bullish-vs-bearish."
   ]
  }
 ],
 "metadata": {
  "kernelspec": {
   "display_name": "TM_2025",
   "language": "python",
   "name": "python3"
  },
  "language_info": {
   "codemirror_mode": {
    "name": "ipython",
    "version": 3
   },
   "file_extension": ".py",
   "mimetype": "text/x-python",
   "name": "python",
   "nbconvert_exporter": "python",
   "pygments_lexer": "ipython3",
   "version": "3.10.16"
  }
 },
 "nbformat": 4,
 "nbformat_minor": 5
}
