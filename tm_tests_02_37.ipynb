{
  "cells": [
    {
      "cell_type": "code",
      "execution_count": 1,
      "id": "5bb31f62",
      "metadata": {
        "cellView": "form",
        "colab": {
          "base_uri": "https://localhost:8080/",
          "height": 396
        },
        "id": "5bb31f62",
        "outputId": "c5c19128-4657-441c-8590-252146e3b523"
      },
      "outputs": [
        {
          "data": {
            "text/html": [
              "<div style=\"align-items: center; justify-content: center; flex-wrap: wrap;\">\n",
              "<center><br> <img src=\"https://upload.wikimedia.org/wikipedia/commons/thumb/e/ef/Twitter_and_X_logos.svg/485px-Twitter_and_X_logos.svg.png?20230724093320\" style=\"width: 150px;\"></center><br>\n",
              "</div>"
            ],
            "text/plain": [
              "<IPython.core.display.HTML object>"
            ]
          },
          "metadata": {},
          "output_type": "display_data"
        },
        {
          "data": {
            "text/html": [
              "<div style=\"display: flex; align-items: center; justify-content: center; flex-wrap: wrap;\">\n",
              "    <div style=\"flex: 1; max-width: 400px; display: flex; justify-content: center;\">\n",
              "        <img src=\"https://i.ibb.co/JBPWVYR/Logo-Nova-IMS-Black.png\" style=\"max-width: 50%; height: auto; margin-top: 50px; margin-bottom: 50px;margin-left: 6rem;\">\n",
              "    </div>\n",
              "    <div style=\"flex: 2; text-align: center; margin-top: 20px;margin-left: 8rem;\">\n",
              "        <div style=\"font-size: 28px; font-weight: bold; line-height: 1.2;\">\n",
              "            <span style=\"color: #24A3F1;\">TM Project |</span> <span style=\"color: #2a2a83;\">Stock Market Sentiment Tweets Analysis</span>\n",
              "        </div>\n",
              "        <div style=\"font-size: 17px; font-weight: bold; margin-top: 10px;\">\n",
              "            Spring Semester | 2024 - 2025\n",
              "        </div>\n",
              "        <div style=\"font-size: 17px; font-weight: bold;\">\n",
              "            Master in Data Science and Advanced Analytics\n",
              "        </div>\n",
              "        <div style=\"margin-top: 20px;\">\n",
              "            <div>André Silvestre, 20240502</div>\n",
              "            <div>Filipa Pereira, 20240509</div>\n",
              "            <div>João Henriques, 20240499</div>\n",
              "            <div>Umeima Mahomed, 20240543</div>\n",
              "        </div>\n",
              "        <div style=\"margin-top: 20px; font-weight: bold;\">\n",
              "            Group 37\n",
              "        </div>\n",
              "    </div>\n",
              "</div>"
            ],
            "text/plain": [
              "<IPython.core.display.HTML object>"
            ]
          },
          "metadata": {},
          "output_type": "display_data"
        }
      ],
      "source": [
        "#@title ㅤ\n",
        "# Source: https://stackoverflow.com/questions/49090476/how-can-i-hide-cell-contents-in-google-colaboratory\n",
        "from IPython.display import display, HTML\n",
        "\n",
        "html_content_1 = \"\"\"<div style=\"align-items: center; justify-content: center; flex-wrap: wrap;\">\n",
        "<center><br> <img src=\"https://upload.wikimedia.org/wikipedia/commons/thumb/e/ef/Twitter_and_X_logos.svg/485px-Twitter_and_X_logos.svg.png?20230724093320\" style=\"width: 150px;\"></center><br>\n",
        "</div>\"\"\"\n",
        "\n",
        "display(HTML(html_content_1))\n",
        "\n",
        "html_content_2 = \"\"\"<div style=\"display: flex; align-items: center; justify-content: center; flex-wrap: wrap;\">\n",
        "    <div style=\"flex: 1; max-width: 400px; display: flex; justify-content: center;\">\n",
        "        <img src=\"https://i.ibb.co/JBPWVYR/Logo-Nova-IMS-Black.png\" style=\"max-width: 50%; height: auto; margin-top: 50px; margin-bottom: 50px;margin-left: 6rem;\">\n",
        "    </div>\n",
        "    <div style=\"flex: 2; text-align: center; margin-top: 20px;margin-left: 8rem;\">\n",
        "        <div style=\"font-size: 28px; font-weight: bold; line-height: 1.2;\">\n",
        "            <span style=\"color: #24A3F1;\">TM Project |</span> <span style=\"color: #2a2a83;\">Stock Market Sentiment Tweets Analysis</span>\n",
        "        </div>\n",
        "        <div style=\"font-size: 17px; font-weight: bold; margin-top: 10px;\">\n",
        "            Spring Semester | 2024 - 2025\n",
        "        </div>\n",
        "        <div style=\"font-size: 17px; font-weight: bold;\">\n",
        "            Master in Data Science and Advanced Analytics\n",
        "        </div>\n",
        "        <div style=\"margin-top: 20px;\">\n",
        "            <div>André Silvestre, 20240502</div>\n",
        "            <div>Filipa Pereira, 20240509</div>\n",
        "            <div>João Henriques, 20240499</div>\n",
        "            <div>Umeima Mahomed, 20240543</div>\n",
        "        </div>\n",
        "        <div style=\"margin-top: 20px; font-weight: bold;\">\n",
        "            Group 37\n",
        "        </div>\n",
        "    </div>\n",
        "</div>\"\"\"\n",
        "\n",
        "display(HTML(html_content_2))"
      ]
    },
    {
      "cell_type": "markdown",
      "id": "0f5ecc96",
      "metadata": {
        "id": "0f5ecc96"
      },
      "source": [
        "<div style=\"background: linear-gradient(to right, #24A3F1, #0B62A3, #113d7c, #000000);\n",
        "            padding: 7px; color: white; border-radius: 500px; text-align: center;\">\n",
        "</div>"
      ]
    },
    {
      "cell_type": "markdown",
      "id": "70e2a707",
      "metadata": {
        "id": "70e2a707"
      },
      "source": [
        "## 📚 **Libraries Import**"
      ]
    },
    {
      "cell_type": "code",
      "execution_count": 2,
      "id": "9457298d",
      "metadata": {
        "id": "9457298d"
      },
      "outputs": [],
      "source": [
        "# # Source to install PyTorch: https://pytorch.org/get-started/locally/\n",
        "# !pip install torch torchvision torchaudio --index-url https://download.pytorch.org/whl/cu126\n",
        "\n",
        "# # To install Google Collab\n",
        "# !pip install --upgrade transformers\n",
        "# !pip install --upgrade accelerate\n",
        "\n",
        "# # Solve \"WARNING:transformers_modules.microsoft.Phi-3-mini-4k-instruct.modeling_phi3:`flash-attention` package not found, consider installing for better performance: No module named 'flash_attn'.\"\n",
        "# !pip install flash-attn --no-build-isolation\n",
        "\n",
        "# # Downgrade numpy to version if necessary\n",
        "# !pip install numpy==1.26.4\n",
        "# # Note: Restart the kernel after downgrading numpy to ensure compatibility."
      ]
    },
    {
      "cell_type": "code",
      "execution_count": 3,
      "id": "ca069a9b",
      "metadata": {
        "id": "ca069a9b"
      },
      "outputs": [],
      "source": [
        "# Imports for System Operations\n",
        "import os\n",
        "import sys\n",
        "import time\n",
        "import datetime\n",
        "\n",
        "# Imports for Data Manipulation\n",
        "import numpy as np\n",
        "import pandas as pd\n",
        "import warnings\n",
        "warnings.filterwarnings(\"ignore\")\n",
        "\n",
        "# Imports for Data Visualization\n",
        "import matplotlib.pyplot as plt\n",
        "import seaborn as sns\n",
        "import matplotlib.lines as mlines\n",
        "from collections import Counter\n",
        "import itertools\n",
        "\n",
        "# Imports for Model Evaluation\n",
        "from sklearn.model_selection import train_test_split\n",
        "from sklearn.metrics import confusion_matrix, classification_report, accuracy_score, roc_auc_score, \\\n",
        "    precision_score, recall_score, f1_score\n",
        "from tqdm.notebook import tqdm\n",
        "\n",
        "# Imports for Transformer Models\n",
        "import torch\n",
        "import transformers\n",
        "# Source: https://huggingface.co/models\n",
        "from transformers import pipeline, AutoModel, AutoTokenizer, AutoModelForCausalLM\n",
        "\n",
        "# Disable warnings for the pipeline\n",
        "# Source: https://huggingface.co/docs/transformers/en/main_classes/logging\n",
        "from transformers import logging\n",
        "logging.set_verbosity_error()  # Suppress warnings from the transformers library"
      ]
    },
    {
      "cell_type": "code",
      "execution_count": 4,
      "id": "jPxEk-z6gXPW",
      "metadata": {
        "colab": {
          "base_uri": "https://localhost:8080/"
        },
        "id": "jPxEk-z6gXPW",
        "outputId": "be9b9719-4aaa-42c5-f16c-8106b816c713"
      },
      "outputs": [
        {
          "name": "stdout",
          "output_type": "stream",
          "text": [
            "Thu Jun 12 21:14:02 2025       \n",
            "+-----------------------------------------------------------------------------------------+\n",
            "| NVIDIA-SMI 550.54.15              Driver Version: 550.54.15      CUDA Version: 12.4     |\n",
            "|-----------------------------------------+------------------------+----------------------+\n",
            "| GPU  Name                 Persistence-M | Bus-Id          Disp.A | Volatile Uncorr. ECC |\n",
            "| Fan  Temp   Perf          Pwr:Usage/Cap |           Memory-Usage | GPU-Util  Compute M. |\n",
            "|                                         |                        |               MIG M. |\n",
            "|=========================================+========================+======================|\n",
            "|   0  Tesla T4                       Off |   00000000:00:04.0 Off |                    0 |\n",
            "| N/A   49C    P8              9W /   70W |       2MiB /  15360MiB |      0%      Default |\n",
            "|                                         |                        |                  N/A |\n",
            "+-----------------------------------------+------------------------+----------------------+\n",
            "                                                                                         \n",
            "+-----------------------------------------------------------------------------------------+\n",
            "| Processes:                                                                              |\n",
            "|  GPU   GI   CI        PID   Type   Process name                              GPU Memory |\n",
            "|        ID   ID                                                               Usage      |\n",
            "|=========================================================================================|\n",
            "|  No running processes found                                                             |\n",
            "+-----------------------------------------------------------------------------------------+\n"
          ]
        }
      ],
      "source": [
        "!nvidia-smi"
      ]
    },
    {
      "cell_type": "code",
      "execution_count": 5,
      "id": "230b0687",
      "metadata": {
        "colab": {
          "base_uri": "https://localhost:8080/"
        },
        "id": "230b0687",
        "outputId": "ae6a31f6-4689-4598-d236-5116e0d53a57"
      },
      "outputs": [
        {
          "name": "stdout",
          "output_type": "stream",
          "text": [
            "4.52.4\n",
            "2.6.0+cu124\n"
          ]
        }
      ],
      "source": [
        "# Source https://github.com/pytorch/torchtune/issues/1185\n",
        "os.environ[\"PYTORCH_CUDA_ALLOC_CONF\"] = \"expandable_segments:True\"\n",
        "\n",
        "print(transformers.__version__)\n",
        "print(torch.__version__)"
      ]
    },
    {
      "cell_type": "code",
      "execution_count": 6,
      "id": "58ce3ff6",
      "metadata": {
        "colab": {
          "base_uri": "https://localhost:8080/"
        },
        "id": "58ce3ff6",
        "outputId": "db831240-f847-45af-e0e7-95589477c552"
      },
      "outputs": [
        {
          "name": "stdout",
          "output_type": "stream",
          "text": [
            "0\n"
          ]
        }
      ],
      "source": [
        "torch.cuda.empty_cache()  # Clear cache\n",
        "torch.cuda.is_available() # Check if GPU is available\n",
        "# (if False in Google Colab: Make sure your Hardware accelerator is set to GPU. | Runtime > Change runtime type > Hardware Accelerator)\n",
        "\n",
        "# automatically chose CPU or GPU for inference, depending on your hardware\n",
        "device = torch.cuda.current_device() if torch.cuda.is_available() else -1\n",
        "# -1 == CPU ; 0 == GPU\n",
        "print(device)"
      ]
    },
    {
      "cell_type": "code",
      "execution_count": 7,
      "id": "fbde73a9",
      "metadata": {
        "id": "fbde73a9"
      },
      "outputs": [],
      "source": [
        "# Auxiliary function to display multiple dataframes side by side\n",
        "# Source: https://python.plainenglish.io/displaying-multiple-dataframes-side-by-side-in-jupyter-lab-notebook-9a4649a4940\n",
        "from IPython.display import display_html\n",
        "from itertools import chain,cycle\n",
        "def display_side_by_side(*args, super_title, titles=cycle([''])):\n",
        "    \"\"\" Display multiple DataFrames side by side in a Jupyter notebook.\n",
        "    Args:\n",
        "        args: Variable number of DataFrame objects to be displayed side by side.\n",
        "        super_title: The main title to be displayed at the top of the combined view.\n",
        "        titles: An iterable containing titles for each DataFrame to be displayed. Defaults to an infinite cycle of empty strings.\n",
        "\n",
        "    Returns:\n",
        "        None. The function generates and displays HTML content side by side for given DataFrames.\n",
        "    \"\"\"\n",
        "    html_str = ''\n",
        "    html_str += f'<h1 style=\"text-align: left; margin-bottom: -15px;\">{super_title}</h1><br>'\n",
        "    html_str += '<div style=\"display: flex;\">'\n",
        "    for df, title in zip(args, chain(titles, cycle(['</br>']))):\n",
        "        html_str += f'<div style=\"margin-right: 20px;\"><h3 style=\"text-align: center;color:#555555;\">{title}</h3>'\n",
        "        html_str += df.to_html().replace('table', 'table style=\"display:inline; margin-right: 20px;\"')\n",
        "        html_str += '</div>'\n",
        "    html_str += '</div>'\n",
        "    display_html(html_str, raw=True)"
      ]
    },
    {
      "cell_type": "markdown",
      "id": "dbe382f4",
      "metadata": {
        "id": "dbe382f4"
      },
      "source": [
        "---"
      ]
    },
    {
      "cell_type": "markdown",
      "id": "89e41f3c",
      "metadata": {
        "id": "89e41f3c"
      },
      "source": [
        "## 🧮 **Import Databases**"
      ]
    },
    {
      "cell_type": "code",
      "execution_count": 8,
      "id": "7f4c4d55",
      "metadata": {
        "id": "7f4c4d55"
      },
      "outputs": [],
      "source": [
        "# Load the dataset\n",
        "tweets_train_data = pd.read_csv('./data/train.csv')\n",
        "tweets_test_data = pd.read_csv('./data/test.csv')"
      ]
    },
    {
      "cell_type": "code",
      "execution_count": 9,
      "id": "a444e076",
      "metadata": {
        "colab": {
          "base_uri": "https://localhost:8080/"
        },
        "id": "a444e076",
        "outputId": "0f93513f-5b8c-4ee6-b057-cd7deca61620"
      },
      "outputs": [
        {
          "name": "stdout",
          "output_type": "stream",
          "text": [
            "\u001b[1mTrain Dataset \u001b[0m\n",
            "  Number of rows: 9543\n",
            "  Number of columns: 2\n",
            "\n",
            "\u001b[1mTest Dataset \u001b[0m\n",
            "  Number of rows: 2388\n",
            "  Number of columns: 2\n"
          ]
        }
      ],
      "source": [
        "# Number of rows and columns\n",
        "print(\"\\033[1mTrain Dataset \\033[0m\")\n",
        "print(\"  Number of rows:\", tweets_train_data.shape[0])\n",
        "print(\"  Number of columns:\", tweets_train_data.shape[1])\n",
        "\n",
        "print(\"\\n\\033[1mTest Dataset \\033[0m\")\n",
        "print(\"  Number of rows:\", tweets_test_data.shape[0])\n",
        "print(\"  Number of columns:\", tweets_test_data.shape[1])"
      ]
    },
    {
      "cell_type": "code",
      "execution_count": 10,
      "id": "1aeb7a0b",
      "metadata": {
        "id": "1aeb7a0b"
      },
      "outputs": [],
      "source": [
        "# Define the color palette for visualizations\n",
        "color_palette = [\n",
        "    \"#000000\",  # Black               0\n",
        "    \"#113D7C\",  # Intense Blue        1\n",
        "    \"#0B62A3\",  # Vibrant Blue        2\n",
        "    \"#0987C3\",  # Light Blue          3\n",
        "    \"#24A3F1\",  # Sky Blue            4\n",
        "]"
      ]
    },
    {
      "cell_type": "code",
      "execution_count": 11,
      "id": "63a07841",
      "metadata": {
        "id": "63a07841"
      },
      "outputs": [],
      "source": [
        "# Set Seaborn style\n",
        "sns.set_style(\"white\")"
      ]
    },
    {
      "cell_type": "markdown",
      "id": "81b02b4b",
      "metadata": {
        "id": "81b02b4b"
      },
      "source": [
        "---"
      ]
    },
    {
      "cell_type": "markdown",
      "id": "4d1d2ba4",
      "metadata": {
        "id": "4d1d2ba4"
      },
      "source": [
        "## ⚖️ **Training/Validation Split**\n",
        "\n",
        "Before starting the feature engineering process that will be carried out in the next steps, we will divide the training data into training and validation sets. This will allow us to evaluate the performance of the models we will develop."
      ]
    },
    {
      "cell_type": "code",
      "execution_count": 12,
      "id": "dbadffc0",
      "metadata": {
        "id": "dbadffc0"
      },
      "outputs": [],
      "source": [
        "# Splitting the data into training and validation sets\n",
        "X = tweets_train_data.drop(columns = ['label'])\n",
        "y = tweets_train_data['label']\n",
        "\n",
        "# Splitting the data into training and validation sets (75% train, 25% validation)\n",
        "X_train, X_val, y_train, y_val = train_test_split(X, y,                # X and y\n",
        "                                                  test_size = 0.25,    # 75% train, 25% validation\n",
        "                                                  random_state = 2025, # Seed\n",
        "                                                  stratify = y,        # Keep the same proportion of target classes (because of imbalance)\n",
        "                                                  shuffle = True)      # Shuffle the data"
      ]
    },
    {
      "cell_type": "code",
      "execution_count": 13,
      "id": "6f26eb91",
      "metadata": {
        "colab": {
          "base_uri": "https://localhost:8080/"
        },
        "id": "6f26eb91",
        "outputId": "f160504d-d04f-4026-dc31-e8af0f04e054"
      },
      "outputs": [
        {
          "data": {
            "text/plain": [
              "((7157, 1), (2386, 1))"
            ]
          },
          "execution_count": 13,
          "metadata": {},
          "output_type": "execute_result"
        }
      ],
      "source": [
        "# Check the shape of the training and validation sets\n",
        "X_train.shape, X_val.shape"
      ]
    },
    {
      "cell_type": "markdown",
      "id": "3793480f",
      "metadata": {
        "id": "3793480f"
      },
      "source": [
        "---"
      ]
    },
    {
      "cell_type": "code",
      "execution_count": 14,
      "id": "7d28e592",
      "metadata": {
        "cellView": "form",
        "colab": {
          "base_uri": "https://localhost:8080/",
          "height": 143
        },
        "id": "7d28e592",
        "outputId": "dec69e4f-0efd-47c9-8fda-e93aafe31289"
      },
      "outputs": [
        {
          "data": {
            "text/html": [
              "\n",
              "<br>\n",
              "<style>\n",
              "@import url('https://fonts.cdnfonts.com/css/avenir-next-lt-pro?styles=29974');\n",
              "</style>\n",
              "\n",
              "<div style=\"background: linear-gradient(to right, #24A3F1, #0B62A3, #113d7c, #000000);\n",
              "            padding: 10px; color: white; border-radius: 300px; text-align: center;\">\n",
              "    <center><h1 style=\"margin-top: 10px; margin-bottom: 4px; color: white;\n",
              "                       font-size: 32px; font-family: 'Avenir Next LT Pro', sans-serif;\">\n",
              "        <b>4 & 5 | Modelling & Evaluation</b></h1></center>\n",
              "</div>\n",
              "\n",
              "<br><br>"
            ],
            "text/plain": [
              "<IPython.core.display.HTML object>"
            ]
          },
          "metadata": {},
          "output_type": "display_data"
        }
      ],
      "source": [
        "#@title ㅤ\n",
        "# Source: https://stackoverflow.com/questions/49090476/how-can-i-hide-cell-contents-in-google-colaboratory\n",
        "from IPython.display import display, HTML\n",
        "\n",
        "html_content_3 = \"\"\"\n",
        "<br>\n",
        "<style>\n",
        "@import url('https://fonts.cdnfonts.com/css/avenir-next-lt-pro?styles=29974');\n",
        "</style>\n",
        "\n",
        "<div style=\"background: linear-gradient(to right, #24A3F1, #0B62A3, #113d7c, #000000);\n",
        "            padding: 10px; color: white; border-radius: 300px; text-align: center;\">\n",
        "    <center><h1 style=\"margin-top: 10px; margin-bottom: 4px; color: white;\n",
        "                       font-size: 32px; font-family: 'Avenir Next LT Pro', sans-serif;\">\n",
        "        <b>4 & 5 | Modelling & Evaluation</b></h1></center>\n",
        "</div>\n",
        "\n",
        "<br><br>\"\"\"\n",
        "\n",
        "display(HTML(html_content_3))"
      ]
    },
    {
      "cell_type": "code",
      "execution_count": 15,
      "id": "1430ff9e",
      "metadata": {
        "id": "1430ff9e"
      },
      "outputs": [],
      "source": [
        "# Modified function to display only validation results\n",
        "def classification_metrics_validation_only(\n",
        "    model_name,\n",
        "    y_true_val,\n",
        "    y_pred_val,\n",
        "    time_execution,\n",
        "    y_pred_val_proba=None,\n",
        "    classification_report_show=True\n",
        "):\n",
        "    \"\"\"Evaluate and display classification metrics for validation set only.\n",
        "\n",
        "    Args:\n",
        "        model_name (str): The name of the model/approach being evaluated.\n",
        "        y_true_val (array-like): True labels for the validation set (numerical: 0, 1, 2).\n",
        "        y_pred_val (array-like): Predicted labels for the validation set (numerical: 0, 1, 2).\n",
        "        time_execution (float or str): The time taken for prediction.\n",
        "        y_pred_val_proba (array-like, optional): Predicted probabilities for the validation set.\n",
        "        classification_report_show (bool, optional): Whether to display the classification report.\n",
        "\n",
        "    Returns:\n",
        "        dict: Dictionary with validation metrics (Accuracy, Precision, Recall, F1 Score, AUROC).\n",
        "    \"\"\"\n",
        "    # Ensure inputs are numerical numpy arrays for scikit-learn compatibility\n",
        "    y_true_val = np.asarray(y_true_val)\n",
        "    y_pred_val = np.asarray(y_pred_val)\n",
        "\n",
        "    # Create Text Labels for Display\n",
        "    sentiment_labels = {0: 'Bearish', 1: 'Bullish', 2: 'Neutral'}  # Define mapping\n",
        "    y_true_val_text = pd.Series(y_true_val).map(sentiment_labels).values\n",
        "    y_pred_val_text = pd.Series(y_pred_val).map(sentiment_labels).values\n",
        "\n",
        "    # Define unique text labels based on true validation data for consistent ordering\n",
        "    unique_text_labels = sorted(pd.Series(y_true_val).map(sentiment_labels).unique())\n",
        "\n",
        "    # Initialize dictionary to store validation results\n",
        "    models_results_val = {}\n",
        "\n",
        "    # Display model name\n",
        "    display_html(f'<h1 style=\"text-align: left; margin-bottom: -15px;\">{model_name}</h1><br>', raw=True)\n",
        "\n",
        "    # Calculate AUROC if probabilities are provided\n",
        "    auroc_val_score = 'N/A'\n",
        "    if y_pred_val_proba is not None:\n",
        "        y_pred_val_proba = np.asarray(y_pred_val_proba)\n",
        "        if y_pred_val_proba.shape[1] == 3:\n",
        "            try:\n",
        "                auroc_val_score = round(roc_auc_score(y_true_val, y_pred_val_proba, multi_class='ovr'), 2)\n",
        "            except ValueError as e:\n",
        "                print(f\"Could not calculate AUROC: {e}\")\n",
        "        else:\n",
        "            print(\"Warning: Probabilities provided do not have shape (n_samples, 3). Cannot calculate AUROC.\")\n",
        "\n",
        "    # Display Classification Report for Validation\n",
        "    if classification_report_show:\n",
        "        print('___________________________________________________________________________________________________________')\n",
        "        print('                                                VALIDATION                                                 ')\n",
        "        print('-----------------------------------------------------------------------------------------------------------')\n",
        "        print(classification_report(y_true_val_text, y_pred_val_text,\n",
        "                                    labels=unique_text_labels,\n",
        "                                    zero_division=0))\n",
        "        print(f'\\nAUROC: {auroc_val_score}')\n",
        "\n",
        "    # Display Confusion Matrix for Validation\n",
        "    fig, ax = plt.subplots(figsize=(5, 5))\n",
        "    cm_val = confusion_matrix(y_true_val_text, y_pred_val_text, labels=unique_text_labels)\n",
        "    sns.heatmap(cm_val, annot=True, annot_kws={\"size\": 10}, fmt='d', cmap='Blues', cbar=False,\n",
        "                xticklabels=unique_text_labels, yticklabels=unique_text_labels, ax=ax)\n",
        "    ax.set_title('Confusion Matrix [Validation]\\n', fontsize=12, fontweight='bold')\n",
        "    ax.set_xlabel('\\nPredicted', fontsize=10, fontweight='bold')\n",
        "    ax.set_ylabel('True\\n', fontsize=10, fontweight='bold')\n",
        "    plt.tight_layout()\n",
        "    plt.show()\n",
        "\n",
        "    # Store Validation Metrics\n",
        "    models_results_val[model_name] = {\n",
        "        'Accuracy': round(accuracy_score(y_true_val, y_pred_val), 2),\n",
        "        'Precision': round(precision_score(y_true_val, y_pred_val, average='macro', zero_division=0), 2),\n",
        "        'Recall': round(recall_score(y_true_val, y_pred_val, average='macro', zero_division=0), 2),\n",
        "        'F1 Score (Macro)': round(f1_score(y_true_val, y_pred_val, average='macro', zero_division=0), 2),\n",
        "        'AUROC': auroc_val_score\n",
        "    }\n",
        "\n",
        "    return models_results_val"
      ]
    },
    {
      "cell_type": "code",
      "execution_count": 16,
      "id": "a4f93f9c",
      "metadata": {
        "cellView": "form",
        "colab": {
          "base_uri": "https://localhost:8080/",
          "height": 102
        },
        "id": "a4f93f9c",
        "outputId": "a94fde9a-c1ef-4d14-a422-695dd7034dd1"
      },
      "outputs": [
        {
          "data": {
            "text/html": [
              "\n",
              "<br>\n",
              "<style>\n",
              "@import url('https://fonts.cdnfonts.com/css/avenir-next-lt-pro?styles=29974');\n",
              "</style>\n",
              "\n",
              "<div style=\"background: transparent;\n",
              "            padding: 10px; color: white; border-radius: 300px; text-align: center;\n",
              "            border: 2px solid #000000;\">\n",
              "    <center><h2 style=\"margin-left: 120px;margin-top: 10px; margin-bottom: 4px; color: #000000;\n",
              "                       font-size: 24px; font-family: 'Avenir Next LT Pro', sans-serif;\"><b> [EXTRA] Transformer-based Decoder</b></h2></center>\n",
              "</div>"
            ],
            "text/plain": [
              "<IPython.core.display.HTML object>"
            ]
          },
          "metadata": {},
          "output_type": "display_data"
        }
      ],
      "source": [
        "#@title ㅤ\n",
        "# Source: https://stackoverflow.com/questions/49090476/how-can-i-hide-cell-contents-in-google-colaboratory\n",
        "from IPython.display import display, HTML\n",
        "\n",
        "html_content_4 = \"\"\"\n",
        "<br>\n",
        "<style>\n",
        "@import url('https://fonts.cdnfonts.com/css/avenir-next-lt-pro?styles=29974');\n",
        "</style>\n",
        "\n",
        "<div style=\"background: transparent;\n",
        "            padding: 10px; color: white; border-radius: 300px; text-align: center;\n",
        "            border: 2px solid #000000;\">\n",
        "    <center><h2 style=\"margin-left: 120px;margin-top: 10px; margin-bottom: 4px; color: #000000;\n",
        "                       font-size: 24px; font-family: 'Avenir Next LT Pro', sans-serif;\"><b> [EXTRA] Transformer-based Decoder</b></h2></center>\n",
        "</div>\"\"\"\n",
        "\n",
        "display(HTML(html_content_4))"
      ]
    },
    {
      "cell_type": "code",
      "execution_count": 17,
      "id": "b333ed9e",
      "metadata": {
        "colab": {
          "base_uri": "https://localhost:8080/"
        },
        "id": "b333ed9e",
        "outputId": "686339f6-460a-4ec4-9ac9-6fef6eb9a523"
      },
      "outputs": [
        {
          "name": "stdout",
          "output_type": "stream",
          "text": [
            "\u001b[1mLabel: 0\u001b[0m\n",
            "- Breaking - United $UAL suspends flights to China as coronavirus outbreak continues\n",
            "- Ford Stock Hit by CEO, China and Lack of Product\n",
            "- KUDLOW SAYS TRUMP IS NOT READY TO SIGN ANY TRADE DEAL WITH CHINA\n",
            "- $XOM - Exxon's Baton Rouge refinery cuts production on low demand - Reuters https://t.co/xRIss6avLy\n",
            "- California Intensifies Fossil Fuel Fight With Drilling Ban\n",
            "- Here's a warning about negative interest rates and how they can do a lot more damage https://t.co/4arbZd3Mos https://t.co/jBLlpdmiYC\n",
            "- STOCKS AT THE OPEN:\n",
            "-Dow down 0.36%\n",
            "-Nasdaq down 0.27% \n",
            "-S&P down 0.22% https://t.co/aFoTHH40Ef\n",
            "- Aker Solutions swings to surprise Q4 net loss, expects drop in 2020 revenue\n",
            "- Global stocks stutter at end of best week since June\n",
            "- BJ's Wholesale cuts same-store sales outlook to up 1.3%-1.5% from up 1.5%-2.5%\n",
            "- Popular Irish ETF skids lower after Sinn Fein election win\n",
            "- Intelsat Shorts Stick to Positions Even After Record 75% Wipeout\n",
            "- Kohl's shares tank on earnings miss, retailer cuts fiscal 2019 earnings outlook\n",
            "- Royal Caribbean cuts earnings guidance, warns more cruises may be canceled amid coronavirus uncertainty\n",
            "- Nike Warns Coronavirus Is Presuring Sales in China\n",
            "- TikTok looks to diversify users as U.S. pressure mounts\n",
            "- Morgan Stanley fined $22 million for digging bond markets https://t.co/Uh3QzkQ3IB via @business https://t.co/Pe16MdWRNj\n",
            "- Take-Two Interactive stock price target cut to $124 from $133 at MKM Partners\n",
            "- $TLT $TBT $USO - Interest rates and oil carve out new lows as stocks slip https://t.co/8qemzQl6Ze\n",
            "- $AMRH (-8.7% pre) AMERI Holdings (AMRH) Announces 1-for-25 Reverse Stock Split to Regain Nasdaq Compliance\n",
            "\n",
            "https://t.co/XP3DTVbbMM\n",
            "\u001b[1mLabel: 1\u001b[0m\n",
            "- Stocks open slightly higher on upbeat trade hopes, merger activity https://t.co/fRozqKlNg1\n",
            "- Tyson Foods Q1 EPS $1.52 vs. $1.50 a year ago\n",
            "- Asia shares bounce, hope for best on U.S.-China trade https://t.co/MLGjF0fTaW https://t.co/FwYANnYwHi\n",
            "- Hedge Funds Aren’t Done Buying Omega Healthcare Investors Inc (OHI)\n",
            "- Starbucks +2% after JPMorgan lift\n",
            "- Curaleaf Q3 top line up 27%; non-GAAP EBITDA up 169%\n",
            "- In  1.60 $NYMT on news 6000 shares. Stock fell 80% and now can run big\n",
            "- $EGRX - Eagle Pharma set to refile Ryanodex NDA; shares ahead 5% https://t.co/7mTlIJa4w1\n",
            "- Estee Lauder Q2 sales $4.62 bln vs. $4.01 bln; FactSet consensus $4.35 bln\n",
            "- XAU/USD Bullish ABC Pattern Aims at $1500 Resistance\n",
            "- $POIA this is a great PR. I would not be surprised seeing this stock trading above $2 in after-hours.\n",
            "- 3M's stock surge is leading the Dow to a more than 300 point gain at midday https://t.co/iHWlJDupuJ\n",
            "- $EBAY - Guggenheim sees favorable catalysts for eBay https://t.co/1adfDkHeaw\n",
            "- $TOPS (+33.3% pre) Form SC 13G TOP SHIPS INC. Filed by: MORGAN STANLEY $MS\n",
            "\n",
            "https://t.co/ypAssKZN5S\n",
            "- Dow adds over 1,600 points as investors hope coronavirus cases have peaked https://t.co/fXwSUpuj54\n",
            "- Buckle posts strong comp for January\n",
            "- Atlanta Fed hikes Q4 GDP estimate\n",
            "- CNA +6.8% after dividend boost, Q4 beat\n",
            "- Hedge Funds Have Never Been This Bullish On Paramount Group Inc (PGRE)\n",
            "- WiLAN signs wireless license with LG; shares +7% PM\n",
            "\u001b[1mLabel: 2\u001b[0m\n",
            "- FDA inspections of overseas pharmaceutical manufacturers declined 10% from 2016 to 2018 https://t.co/oVJiZUmgYT\n",
            "- Niger Jihadist Raid Shows Speed of Islamic State Expansion\n",
            "- Is Sinclair Broadcast Group, Inc. (NASDAQ:SBGI) An Attractive Dividend Stock?\n",
            "- Taking A Look At OHB SE's (ETR:OHB) ROE\n",
            "- Uber’s chief product officer to step down\n",
            "- Sberbank of Russia : arranges issue of structured bonds worth RUB1 bn on commercial real e... #SberbankRossii… https://t.co/6hlc3fsrDF\n",
            "- A federal grand jury has charged four members of the Chinese People's Liberation Army with hacking Equifax and stea… https://t.co/WlH2V7Nk2e\n",
            "- Wow  https://t.co/L9mDvwlyhx\n",
            "- November 22, 2019 States, the Supreme Court & Sales Taxes: How to Prepare for 2020 Annual ... #ChannelAdvisor… https://t.co/gyfjVcLfeZ\n",
            "- Here's Why You Need To Hedge Your Stock Investments - Nasdaq\n",
            "- OneWater Marine IPO prices at $12, at the bottom of the expected range\n",
            "- $KZR Kezar Life Sciences Highlights Therapeutic Potential of Protein Secretion Inhibitors at the 61st American Soci… https://t.co/jFFu7R9I6T\n",
            "- BlackRock’s HR chief was fired in July after office relationship https://t.co/ykgCxlIyLP via @business https://t.co/ShsANCFYo7\n",
            "- The world's tallest atrium just opened in China. At 636 feet with four skybridges, it rises between the building's… https://t.co/scGmNz373S\n",
            "- Here's Why I Think Middlefield Banc (NASDAQ:MBCN) Is An Interesting Stock\n",
            "- Grab Your Smart Watch and Start Tracking Apple Stock\n",
            "- CDC SAYS REPATRIATED AMERICANS ARE UNDER FEDERAL QUARANTINE\n",
            "- There are enough options in the world of all things alcoholic to find a gift to suit every sipper on your list. https://t.co/QVs1Pokh4O\n",
            "- Better Buy: Home Depot vs. Target\n",
            "- $ANET in from last week. https://t.co/NTYrAjdveo\n"
          ]
        }
      ],
      "source": [
        "# Function to display examples of each label from the DataFrame\n",
        "def display_example_labels(df, label_column, text_column, num_examples=1):\n",
        "    \"\"\"\n",
        "    Displays examples of each label from the DataFrame.\n",
        "\n",
        "    Args:\n",
        "        df (pd.DataFrame): The DataFrame containing the data.\n",
        "        label_column (str): The name of the column containing the labels.\n",
        "        text_column (str): The name of the column containing the text.\n",
        "        num_examples (int): The number of examples to display for each label.\n",
        "    \"\"\"\n",
        "    unique_labels = df[label_column].unique()\n",
        "    for label in unique_labels:\n",
        "        examples = df[df[label_column] == label][text_column].sample(n=num_examples, random_state=2025)\n",
        "        print(f\"\\033[1mLabel: {label}\\033[0m\")\n",
        "        for example in examples:\n",
        "            print(f\"- {example}\")\n",
        "\n",
        "display_example_labels(tweets_train_data, 'label', 'text', num_examples=20)  # Display examples from the train corpus\n",
        "# 0 = Bearish, 1 = Bullish, 2 = Neutral"
      ]
    },
    {
      "cell_type": "code",
      "execution_count": 18,
      "id": "111e8fb1",
      "metadata": {
        "colab": {
          "base_uri": "https://localhost:8080/",
          "height": 401,
          "referenced_widgets": [
            "9af0d40b7caf41e6b19c85cd469395cc",
            "4674a6f640404ef8988acdbd4b5dc9c7",
            "1cbe8e0e265945c8a1dea25ddc8bf98b",
            "89ccff3e53794630bbd67cf44e7e7d87",
            "d3bc6b85b02044df8336a57104cafec2",
            "2cf9e2d5260542178eb1100950f143ed",
            "1c485d5b70c343e1841c950c2fd14edc",
            "c19dabebd87542ffab6d1810a4cbc43f",
            "36aeba08bf824b23b26e4c0303a9354e",
            "e9d540f4257348c2b1694f3a786aa355",
            "3c965c2f5c334c28b6b92bb7c4ad2275",
            "5b35598fcea146029406d703d9771b7d",
            "2abed54fb8d947fc937bc347725ad802",
            "e578f807b294464fa80058254e648cf1",
            "a827514d6bea4e83a134aefc8f62edd0",
            "af80a7c7e1384415841581a4c4141ab8",
            "acd7b6c099904bd9bcadde71f53e5c28",
            "8d47067c54bc486cb68bf04f78f8b7e4",
            "1ed01a4631a64904bb36505303755d1a",
            "e60a8633dc4b40ec8cd3e73cec8b3a42",
            "bd15b6962bf94a29b2b9de59c15880e0",
            "06d290541b4d4d859851f68dfbd18e8c",
            "3f3a2101607f40669f60cf08e3958cba",
            "21ede39f6dd04432b34bffdf4cbfa325",
            "4739e1c155ca42d1bba04bead5d0be61",
            "f4af88b3d3c143b1a88ed4245e30db11",
            "699608aad82941188249c1dcc232f53a",
            "ed4d883a20fc4d6cb48a0ba12bbec335",
            "4e7c1759e4104044824bd77a1a5df239",
            "7e1b77290c924e8fb25f4e955a5dd786",
            "a8b9ec1bf4da484bb62bfd7be9995a42",
            "fb8e8828b8894176a364e4e59d24a309",
            "8d8cc89bd52b4d80bf496fed214cc925",
            "dd911554e3834ad89a1f256efac73afc",
            "139cbf44c86541bf9b665a25a35f669e",
            "5171e6f7fb1e4cc48f3f59163c791583",
            "5c8c7df1293041f892fd3a2b895e217c",
            "c9d4eedbdbd04b789f5f4c5973953b8b",
            "857f6653a38d4861a88ab60532d620bc",
            "ae3099fd44e14f1180670a94f2617e22",
            "3440a16e1b484eec988ef2cd5f0cba81",
            "0db568e482c04a2a9744f4dc21628bbc",
            "485505533d3d48a697f03cdffe3dc1f2",
            "08453b2693d34295919ded25f1cd44b4",
            "d7fc177cb143484a85a91ec25137beaf",
            "e7a48995689e4f3196410fff0e9d3dce",
            "32d2a74e22154a3e88dd8905b4f0924d",
            "ec81ecfd30a643f78781e205e56da15a",
            "6e5f54d7ff6f43d296225a6d8feb58c2",
            "cc6deae2dc684d2c8c52bc525680dd7d",
            "568372b52bc6463492e8f9f3ed5fac12",
            "002a8fcd6b2a4da8a6b01afca8433543",
            "3f66d0e7340e4af3a4932b425ce002f9",
            "2323f9387cfb4933b4c0ca4b34743315",
            "a80af68c38fd41d2b4d50a3bb5253145",
            "96ea6e551bf94879822eabd37a3facf8",
            "e4cf96e2016a4941a4a7c6a0c54c8f61",
            "d54d52423a76477abcbd7d4d8c0aa1d1",
            "5855d18592d94eda811f4a65a8fc71b1",
            "cb50bb304ca04c51ad2acf25078b4ecd",
            "ebfae98ca84f4e568d350743657c60ae",
            "7eac40efefd247768e6e509e2c516502",
            "a61105eed952439fa5f2b7ae1ae36d21",
            "5d5d01897f594cccbfaf27694c5d0067",
            "ad7336ce8ee54573adf5e7fb548f5ade",
            "29ee4ee35eaa489d81d8c645daf44327",
            "d485106b70c64fe6a93d76fe569742de",
            "1e65c2eff5e54801bdb1a4ce3468ba48",
            "4818cea4700c4adb99dd7e68c9b28d0c",
            "fe4dd6d3219e425681b4c24a9136b61a",
            "dafc768f54db4a348fd74e1d9a074407",
            "4bc6f18e804e4172a693df997aee35b3",
            "bf00a652895d4613a1fdec9dd8d655fa",
            "23d23f911e9843d7ba0c45deb8e8615f",
            "ec73211d0f694cb2a07772e9207367ed",
            "0143da93a0d74a80ada493de859acb0f",
            "45ec388737214d678669f158467b1a78",
            "a2fcdee6267d43ca999868de7d810377",
            "2242e6e028af46d3839e34f11c7f0490",
            "89559d09fa4e4c16b18bce2dd29351a3",
            "e910840882f7427aa138d2d911e06d93",
            "270d4386725b40b3a4523e710953f742",
            "86006df5f74c4963bd7d2e5bd295592e",
            "6c18946557dc4db18afacb5bce0f54b3",
            "f35fab9550894a94bdfc4fb73279acb7",
            "e044ae61523b4550be429340418be8f9",
            "baa86c51ae2c4dddb0e264a1bc83aa8b",
            "91d7cc6f2dfd499086d9781abb7e2f01",
            "05881bfd95084c3cb59d71564687f0f8",
            "a1078c1acf4540a0b041c6c5146a8d0e",
            "ae8473fa8c68479aaf8cb2e52a09b6c3",
            "784f5c9006fe4cb6aa53ec1ed93e1cee",
            "892e5fa880c74afbae538e4c6fd48213",
            "530db4affc49421dbcdc53bad3f22682",
            "3c12a4ee0acd4193a43568010f71648b",
            "aeba3f20e6424a3a882a3b45b398ba56",
            "c40d746403ca41c0a3037215386f8369",
            "2fe3cba9f54f4f52b573468ce2ea3367",
            "0629c21d2b824de6bd3561db939db8fd",
            "b35bfc83a98945ab9ff07f09af5fb566",
            "a35d61f020244366b82db74cd3273267",
            "b1a32ac978634131bdc8ad7acbf8da92",
            "244acf10142f4c6ca8f521b9a45458a8",
            "50110d3f37f44ca5834de41e5b35b906",
            "88e1c4b1cc614c0a8323f682fb065584",
            "96f6e506b9cc46f3aa3b6dea3201a62c",
            "b1669df9c94245358a71ce24e1f8c614",
            "6664592cf123447db882acd966a1385b",
            "7a9e3dd892414daa845f05e545d67890",
            "c2cee29b0c624911aba1d5425c29d400",
            "f1c3d486d82b4082bb9bfee76295ea3b",
            "fdc0f55eeac74f56b71fc62a66505d2c",
            "fab828518b9d42cebce0022bd96b3705",
            "ccc572f2b63f451a892f55d04086d8a0",
            "747526073d59442b99a59e3427fe0d5a",
            "b714a428787148fd9b8874f8cc05bd71",
            "c87a8277eb0b42adb477e26110924479",
            "2c094dcfd757439f9a41ebc6dd977237",
            "23c00540658e43c0833bfccb950e4aa2",
            "984658f051734b57b0a0e501f203759a",
            "88366c1df5c149e993ba5768516a30e8",
            "902e3728c52341b388e4472470b49208",
            "3983c8304abc4eae959f49bbfb89f31d",
            "f0d4aa15bda24767b1ea96bb1cd4071e",
            "d5bdc52097c24844a0c9a3596f292b9f",
            "351e080257df4faaa5a318c931a9e46e",
            "d7e15e3b72d64358860e4d41a3c6ad48",
            "c4613b9f82b94190b39e80e29ff15613",
            "b5e46dc378c349ddabcdafd859c90d3c",
            "e211ead0c9464e868b997a3c27599692",
            "f4dbf56d6dd94d87ab4e372196dd8999",
            "05a0f261b0da4bf5b1e43c9beeecc845"
          ]
        },
        "id": "111e8fb1",
        "outputId": "2f74d993-e6b7-4c80-f75c-2223c18e7715"
      },
      "outputs": [
        {
          "data": {
            "application/vnd.jupyter.widget-view+json": {
              "model_id": "9af0d40b7caf41e6b19c85cd469395cc",
              "version_major": 2,
              "version_minor": 0
            },
            "text/plain": [
              "tokenizer_config.json:   0%|          | 0.00/3.44k [00:00<?, ?B/s]"
            ]
          },
          "metadata": {},
          "output_type": "display_data"
        },
        {
          "data": {
            "application/vnd.jupyter.widget-view+json": {
              "model_id": "5b35598fcea146029406d703d9771b7d",
              "version_major": 2,
              "version_minor": 0
            },
            "text/plain": [
              "tokenizer.model:   0%|          | 0.00/500k [00:00<?, ?B/s]"
            ]
          },
          "metadata": {},
          "output_type": "display_data"
        },
        {
          "data": {
            "application/vnd.jupyter.widget-view+json": {
              "model_id": "3f3a2101607f40669f60cf08e3958cba",
              "version_major": 2,
              "version_minor": 0
            },
            "text/plain": [
              "tokenizer.json:   0%|          | 0.00/1.94M [00:00<?, ?B/s]"
            ]
          },
          "metadata": {},
          "output_type": "display_data"
        },
        {
          "data": {
            "application/vnd.jupyter.widget-view+json": {
              "model_id": "dd911554e3834ad89a1f256efac73afc",
              "version_major": 2,
              "version_minor": 0
            },
            "text/plain": [
              "added_tokens.json:   0%|          | 0.00/306 [00:00<?, ?B/s]"
            ]
          },
          "metadata": {},
          "output_type": "display_data"
        },
        {
          "data": {
            "application/vnd.jupyter.widget-view+json": {
              "model_id": "d7fc177cb143484a85a91ec25137beaf",
              "version_major": 2,
              "version_minor": 0
            },
            "text/plain": [
              "special_tokens_map.json:   0%|          | 0.00/599 [00:00<?, ?B/s]"
            ]
          },
          "metadata": {},
          "output_type": "display_data"
        },
        {
          "data": {
            "application/vnd.jupyter.widget-view+json": {
              "model_id": "96ea6e551bf94879822eabd37a3facf8",
              "version_major": 2,
              "version_minor": 0
            },
            "text/plain": [
              "config.json:   0%|          | 0.00/967 [00:00<?, ?B/s]"
            ]
          },
          "metadata": {},
          "output_type": "display_data"
        },
        {
          "data": {
            "application/vnd.jupyter.widget-view+json": {
              "model_id": "d485106b70c64fe6a93d76fe569742de",
              "version_major": 2,
              "version_minor": 0
            },
            "text/plain": [
              "model.safetensors.index.json:   0%|          | 0.00/16.5k [00:00<?, ?B/s]"
            ]
          },
          "metadata": {},
          "output_type": "display_data"
        },
        {
          "data": {
            "application/vnd.jupyter.widget-view+json": {
              "model_id": "a2fcdee6267d43ca999868de7d810377",
              "version_major": 2,
              "version_minor": 0
            },
            "text/plain": [
              "Fetching 2 files:   0%|          | 0/2 [00:00<?, ?it/s]"
            ]
          },
          "metadata": {},
          "output_type": "display_data"
        },
        {
          "data": {
            "application/vnd.jupyter.widget-view+json": {
              "model_id": "05881bfd95084c3cb59d71564687f0f8",
              "version_major": 2,
              "version_minor": 0
            },
            "text/plain": [
              "model-00001-of-00002.safetensors:   0%|          | 0.00/4.97G [00:00<?, ?B/s]"
            ]
          },
          "metadata": {},
          "output_type": "display_data"
        },
        {
          "data": {
            "application/vnd.jupyter.widget-view+json": {
              "model_id": "b35bfc83a98945ab9ff07f09af5fb566",
              "version_major": 2,
              "version_minor": 0
            },
            "text/plain": [
              "model-00002-of-00002.safetensors:   0%|          | 0.00/2.67G [00:00<?, ?B/s]"
            ]
          },
          "metadata": {},
          "output_type": "display_data"
        },
        {
          "data": {
            "application/vnd.jupyter.widget-view+json": {
              "model_id": "f1c3d486d82b4082bb9bfee76295ea3b",
              "version_major": 2,
              "version_minor": 0
            },
            "text/plain": [
              "Loading checkpoint shards:   0%|          | 0/2 [00:00<?, ?it/s]"
            ]
          },
          "metadata": {},
          "output_type": "display_data"
        },
        {
          "data": {
            "application/vnd.jupyter.widget-view+json": {
              "model_id": "902e3728c52341b388e4472470b49208",
              "version_major": 2,
              "version_minor": 0
            },
            "text/plain": [
              "generation_config.json:   0%|          | 0.00/181 [00:00<?, ?B/s]"
            ]
          },
          "metadata": {},
          "output_type": "display_data"
        }
      ],
      "source": [
        "# Source: https://huggingface.co/microsoft/Phi-3-mini-4k-instruct\n",
        "# Load Tokenizer\n",
        "Phi3mini_tokenizer = AutoTokenizer.from_pretrained(\"microsoft/phi-3-mini-4k-instruct\")\n",
        "\n",
        "# Load Model\n",
        "Phi3mini_model = AutoModelForCausalLM.from_pretrained(\"microsoft/phi-3-mini-4k-instruct\",\n",
        "                                                      torch_dtype=torch.bfloat16,\n",
        "                                                      device_map=\"cuda\")\n",
        "\n",
        "# Create text generation pipeline\n",
        "generator = pipeline(\n",
        "    \"text-generation\",\n",
        "    model=Phi3mini_model,\n",
        "    tokenizer=Phi3mini_tokenizer,\n",
        "    return_full_text=False,\n",
        "    max_new_tokens=5,\n",
        "    use_cache=True,\n",
        "    do_sample=False,\n",
        ")"
      ]
    },
    {
      "cell_type": "code",
      "execution_count": 19,
      "id": "kFrrFf9kXmgx",
      "metadata": {
        "colab": {
          "base_uri": "https://localhost:8080/"
        },
        "id": "kFrrFf9kXmgx",
        "outputId": "bd7e9cfd-5e5b-4fcf-b0d3-57ea0d1a2d60"
      },
      "outputs": [
        {
          "name": "stdout",
          "output_type": "stream",
          "text": [
            "Phi3ForCausalLM(\n",
            "  (model): Phi3Model(\n",
            "    (embed_tokens): Embedding(32064, 3072, padding_idx=32000)\n",
            "    (layers): ModuleList(\n",
            "      (0-31): 32 x Phi3DecoderLayer(\n",
            "        (self_attn): Phi3Attention(\n",
            "          (o_proj): Linear(in_features=3072, out_features=3072, bias=False)\n",
            "          (qkv_proj): Linear(in_features=3072, out_features=9216, bias=False)\n",
            "        )\n",
            "        (mlp): Phi3MLP(\n",
            "          (gate_up_proj): Linear(in_features=3072, out_features=16384, bias=False)\n",
            "          (down_proj): Linear(in_features=8192, out_features=3072, bias=False)\n",
            "          (activation_fn): SiLU()\n",
            "        )\n",
            "        (input_layernorm): Phi3RMSNorm((3072,), eps=1e-05)\n",
            "        (post_attention_layernorm): Phi3RMSNorm((3072,), eps=1e-05)\n",
            "        (resid_attn_dropout): Dropout(p=0.0, inplace=False)\n",
            "        (resid_mlp_dropout): Dropout(p=0.0, inplace=False)\n",
            "      )\n",
            "    )\n",
            "    (norm): Phi3RMSNorm((3072,), eps=1e-05)\n",
            "    (rotary_emb): Phi3RotaryEmbedding()\n",
            "  )\n",
            "  (lm_head): Linear(in_features=3072, out_features=32064, bias=False)\n",
            ")\n"
          ]
        }
      ],
      "source": [
        "# Print model informations\n",
        "print(Phi3mini_model)"
      ]
    },
    {
      "cell_type": "code",
      "execution_count": 20,
      "id": "bf82cb26",
      "metadata": {
        "colab": {
          "base_uri": "https://localhost:8080/"
        },
        "id": "bf82cb26",
        "outputId": "c8a78ca2-3108-48d1-9f98-42e89012df14"
      },
      "outputs": [
        {
          "name": "stdout",
          "output_type": "stream",
          "text": [
            "\u001b[1mLabel:\u001b[0m Bullish\n"
          ]
        }
      ],
      "source": [
        "# Define few-shot learning prompt for sentiment classification\n",
        "system_message = '''You are a helpful assistant that performs sentiment analysis on financial tweets.\n",
        "Your job is to analyze the overall sentiment of a given tweet and classify it as one of: Bearish, Bullish, or Neutral.\n",
        "Return only the sentiment label (Bearish, Bullish, or Neutral) as your response.\n",
        "Here are some examples:\n",
        "\n",
        "Label: Bearish\n",
        "- Breaking - United $UAL suspends flights to China as coronavirus outbreak continues\n",
        "- Ford Stock Hit by CEO, China and Lack of Product\n",
        "- KUDLOW SAYS TRUMP IS NOT READY TO SIGN ANY TRADE DEAL WITH CHINA\n",
        "\n",
        "Label: Bullish\n",
        "- Stocks open slightly higher on upbeat trade hopes, merger activity https://t.co/fRozqKlNg1\n",
        "- Tyson Foods Q1 EPS $1.52 vs. $1.50 a year ago\n",
        "- Asia shares bounce, hope for best on U.S.-China trade https://t.co/MLGjF0fTaW https://t.co/FwYANnYwHi\n",
        "\n",
        "Label: Neutral\n",
        "- FDA inspections of overseas pharmaceutical manufacturers declined 10% from 2016 to 2018 https://t.co/oVJiZUmgYT\n",
        "- Niger Jihadist Raid Shows Speed of Islamic State Expansion\n",
        "- Is Sinclair Broadcast Group, Inc. (NASDAQ:SBGI) An Attractive Dividend Stock?\n",
        "'''\n",
        "\n",
        "# Function to classify sentiment using Phi-3-mini-4k-instruct\n",
        "def phi3_classify_sentiment(text):\n",
        "    \"\"\"\n",
        "    Classifies a tweet's sentiment using Phi-3-mini-4k-instruct and returns the label.\n",
        "\n",
        "    Args:\n",
        "        text (str): The tweet to classify.\n",
        "\n",
        "    Returns:\n",
        "        str: The predicted sentiment label (Bearish, Bullish, Neutral, or N/A).\n",
        "    \"\"\"\n",
        "    # Prompt template\n",
        "    messages = [\n",
        "        {\"role\": \"system\", \"content\": system_message},\n",
        "        {\"role\": \"user\", \"content\": f\"Classify the sentiment of this tweet: {text}\"}\n",
        "    ]\n",
        "\n",
        "    # Generate output using the pipeline\n",
        "    output = generator(messages)\n",
        "    generated_text = output[0]['generated_text'].strip()\n",
        "\n",
        "    # Extract the label from the generated text\n",
        "    valid_labels = [\"Bearish\", \"Bullish\", \"Neutral\"]\n",
        "    label = None\n",
        "    for valid_label in valid_labels:\n",
        "        if valid_label.lower() in generated_text.lower():\n",
        "            label = valid_label\n",
        "            break\n",
        "\n",
        "    # If no valid label is found, default to \"N/A\"\n",
        "    if label is None:\n",
        "        label = \"N/A\"  # or you can choose to return a default label like \"Neutral\"\n",
        "\n",
        "    return label\n",
        "\n",
        "# Example usage\n",
        "sample_tweet = \"📈 $AAPL looks bullish! Going to the moon! 🚀 Check out https://example.com @analyst predicts #stocks UP! It's amazing!!!\"\n",
        "label = phi3_classify_sentiment(sample_tweet)\n",
        "print(f\"\\033[1mLabel:\\033[0m {label}\")"
      ]
    },
    {
      "cell_type": "code",
      "execution_count": 21,
      "id": "c70d13a8",
      "metadata": {
        "colab": {
          "base_uri": "https://localhost:8080/",
          "height": 98,
          "referenced_widgets": [
            "cadc16f103f84d8e80202b9beba303f8",
            "6b2ea4fbed044ea79dfd276ba92722e6",
            "a733dab6c8e74014aed45449531f4c14",
            "08c31a78edf948f789762ab5527b5ab8",
            "031d33149f204ae19196724c20fd0572",
            "3bb5946a2fb94f4c91a993d24c16517c",
            "58a3c6b9cb144e96b61f7da1dd5c8143",
            "a49b60d56c4b4c5d86e42e3569b3675c",
            "49e669d4809b440b813f53c45af39a18",
            "ac54fccf6507472cb73209de84513644",
            "40b21bdbbeed452a99fc940df948f729",
            "4d5eb08a3b0149f3be3d01d30ea65959",
            "c560ebc843bf49cea5c230d56edb65aa",
            "23ad7fb8123d4dd8bcf8f9293900e409",
            "14741c25678449a4ac2fc89359cf3fd9",
            "a58bf38c931b4e2e8dc6ff2d7e97c65b",
            "c2f15bf586974051a194a999233bcfcb",
            "fa1c98c8343e42ad959e7b25db80c13d",
            "c56529fceebc48bebfee4f9e5a2cd4c6",
            "62a39194dcd542ad9ccb5c4c6114b468",
            "192173ee92f6466eaccb96e9694371c9",
            "98c2c156124c4e5eb20f1cc7c4be0a75"
          ]
        },
        "id": "c70d13a8",
        "outputId": "455de05a-1778-43f4-92c7-d4004b1e2a58"
      },
      "outputs": [
        {
          "data": {
            "application/vnd.jupyter.widget-view+json": {
              "model_id": "cadc16f103f84d8e80202b9beba303f8",
              "version_major": 2,
              "version_minor": 0
            },
            "text/plain": [
              "Predicting Validation (Phi-3):   0%|          | 0/2386 [00:00<?, ? tweet/s]"
            ]
          },
          "metadata": {},
          "output_type": "display_data"
        },
        {
          "data": {
            "application/vnd.jupyter.widget-view+json": {
              "model_id": "4d5eb08a3b0149f3be3d01d30ea65959",
              "version_major": 2,
              "version_minor": 0
            },
            "text/plain": [
              "Predicting Test (Phi-3):   0%|          | 0/2388 [00:00<?, ? tweet/s]"
            ]
          },
          "metadata": {},
          "output_type": "display_data"
        },
        {
          "name": "stdout",
          "output_type": "stream",
          "text": [
            "\u001b[1mExecution Time:\u001b[0m7015.18 seconds (1:56:55.179554 h)\n"
          ]
        }
      ],
      "source": [
        "# ----------------------------------- [Phi-3-mini-4k-instruct] -----------------------------------\n",
        "# Start timer for execution time\n",
        "start_time = time.time()\n",
        "\n",
        "# Since Phi-3-mini-4k-instruct is a large language model, we will not use it for inference on the training set (to avoid long execution time).\n",
        "# Instead, we will apply it to the validation and test sets only.\n",
        "\n",
        "# Apply Phi-3 classification to validation set\n",
        "val_predictions = [\n",
        "    phi3_classify_sentiment(txt)\n",
        "    for txt in tqdm(X_val['text'], desc=\"Predicting Validation (Phi-3)\", unit=\" tweet\")\n",
        "]\n",
        "X_val['label_Phi3_str'] = val_predictions\n",
        "\n",
        "# Apply Phi-3 classification to test set\n",
        "test_predictions = [\n",
        "    phi3_classify_sentiment(txt)\n",
        "    for txt in tqdm(tweets_test_data['text'], desc=\"Predicting Test (Phi-3)\", unit=\" tweet\")\n",
        "]\n",
        "tweets_test_data['label_Phi3_str'] = test_predictions\n",
        "\n",
        "# Calculate execution time\n",
        "execution_time_phi3 = time.time() - start_time\n",
        "print(f\"\\033[1mExecution Time:\\033[0m{execution_time_phi3:.2f} seconds ({str(datetime.timedelta(seconds=execution_time_phi3))} h)\")"
      ]
    },
    {
      "cell_type": "code",
      "execution_count": 25,
      "id": "181938b5",
      "metadata": {
        "colab": {
          "base_uri": "https://localhost:8080/",
          "height": 175
        },
        "id": "181938b5",
        "outputId": "b22aa1eb-3c85-44f8-d072-85d0714799e4"
      },
      "outputs": [
        {
          "data": {
            "application/vnd.google.colaboratory.intrinsic+json": {
              "summary": "{\n  \"name\": \"})\",\n  \"rows\": 3,\n  \"fields\": [\n    {\n      \"column\": \"label_Phi3_str\",\n      \"properties\": {\n        \"dtype\": \"string\",\n        \"num_unique_values\": 3,\n        \"samples\": [\n          \"Bullish\",\n          \"Neutral\",\n          \"Bearish\"\n        ],\n        \"semantic_type\": \"\",\n        \"description\": \"\"\n      }\n    },\n    {\n      \"column\": \"n | Validation\",\n      \"properties\": {\n        \"dtype\": \"number\",\n        \"std\": 485,\n        \"min\": 394,\n        \"max\": 1335,\n        \"num_unique_values\": 3,\n        \"samples\": [\n          1335,\n          657,\n          394\n        ],\n        \"semantic_type\": \"\",\n        \"description\": \"\"\n      }\n    },\n    {\n      \"column\": \"% | Validation\",\n      \"properties\": {\n        \"dtype\": \"number\",\n        \"std\": 20.385861113363188,\n        \"min\": 16.5,\n        \"max\": 56.0,\n        \"num_unique_values\": 3,\n        \"samples\": [\n          56.0,\n          27.5,\n          16.5\n        ],\n        \"semantic_type\": \"\",\n        \"description\": \"\"\n      }\n    },\n    {\n      \"column\": \"n | Test\",\n      \"properties\": {\n        \"dtype\": \"number\",\n        \"std\": 481,\n        \"min\": 400,\n        \"max\": 1332,\n        \"num_unique_values\": 3,\n        \"samples\": [\n          1332,\n          656,\n          400\n        ],\n        \"semantic_type\": \"\",\n        \"description\": \"\"\n      }\n    },\n    {\n      \"column\": \"% | Test\",\n      \"properties\": {\n        \"dtype\": \"number\",\n        \"std\": 20.15101320860401,\n        \"min\": 16.8,\n        \"max\": 55.8,\n        \"num_unique_values\": 3,\n        \"samples\": [\n          55.8,\n          27.5,\n          16.8\n        ],\n        \"semantic_type\": \"\",\n        \"description\": \"\"\n      }\n    }\n  ]\n}",
              "type": "dataframe"
            },
            "text/html": [
              "\n",
              "  <div id=\"df-f2715e3e-1642-423d-b1ab-3da327408f14\" class=\"colab-df-container\">\n",
              "    <div>\n",
              "<style scoped>\n",
              "    .dataframe tbody tr th:only-of-type {\n",
              "        vertical-align: middle;\n",
              "    }\n",
              "\n",
              "    .dataframe tbody tr th {\n",
              "        vertical-align: top;\n",
              "    }\n",
              "\n",
              "    .dataframe thead th {\n",
              "        text-align: right;\n",
              "    }\n",
              "</style>\n",
              "<table border=\"1\" class=\"dataframe\">\n",
              "  <thead>\n",
              "    <tr style=\"text-align: right;\">\n",
              "      <th></th>\n",
              "      <th>n | Validation</th>\n",
              "      <th>% | Validation</th>\n",
              "      <th>n | Test</th>\n",
              "      <th>% | Test</th>\n",
              "    </tr>\n",
              "    <tr>\n",
              "      <th>label_Phi3_str</th>\n",
              "      <th></th>\n",
              "      <th></th>\n",
              "      <th></th>\n",
              "      <th></th>\n",
              "    </tr>\n",
              "  </thead>\n",
              "  <tbody>\n",
              "    <tr>\n",
              "      <th>Bullish</th>\n",
              "      <td>1335</td>\n",
              "      <td>56.0</td>\n",
              "      <td>1332</td>\n",
              "      <td>55.8</td>\n",
              "    </tr>\n",
              "    <tr>\n",
              "      <th>Neutral</th>\n",
              "      <td>657</td>\n",
              "      <td>27.5</td>\n",
              "      <td>656</td>\n",
              "      <td>27.5</td>\n",
              "    </tr>\n",
              "    <tr>\n",
              "      <th>Bearish</th>\n",
              "      <td>394</td>\n",
              "      <td>16.5</td>\n",
              "      <td>400</td>\n",
              "      <td>16.8</td>\n",
              "    </tr>\n",
              "  </tbody>\n",
              "</table>\n",
              "</div>\n",
              "    <div class=\"colab-df-buttons\">\n",
              "\n",
              "  <div class=\"colab-df-container\">\n",
              "    <button class=\"colab-df-convert\" onclick=\"convertToInteractive('df-f2715e3e-1642-423d-b1ab-3da327408f14')\"\n",
              "            title=\"Convert this dataframe to an interactive table.\"\n",
              "            style=\"display:none;\">\n",
              "\n",
              "  <svg xmlns=\"http://www.w3.org/2000/svg\" height=\"24px\" viewBox=\"0 -960 960 960\">\n",
              "    <path d=\"M120-120v-720h720v720H120Zm60-500h600v-160H180v160Zm220 220h160v-160H400v160Zm0 220h160v-160H400v160ZM180-400h160v-160H180v160Zm440 0h160v-160H620v160ZM180-180h160v-160H180v160Zm440 0h160v-160H620v160Z\"/>\n",
              "  </svg>\n",
              "    </button>\n",
              "\n",
              "  <style>\n",
              "    .colab-df-container {\n",
              "      display:flex;\n",
              "      gap: 12px;\n",
              "    }\n",
              "\n",
              "    .colab-df-convert {\n",
              "      background-color: #E8F0FE;\n",
              "      border: none;\n",
              "      border-radius: 50%;\n",
              "      cursor: pointer;\n",
              "      display: none;\n",
              "      fill: #1967D2;\n",
              "      height: 32px;\n",
              "      padding: 0 0 0 0;\n",
              "      width: 32px;\n",
              "    }\n",
              "\n",
              "    .colab-df-convert:hover {\n",
              "      background-color: #E2EBFA;\n",
              "      box-shadow: 0px 1px 2px rgba(60, 64, 67, 0.3), 0px 1px 3px 1px rgba(60, 64, 67, 0.15);\n",
              "      fill: #174EA6;\n",
              "    }\n",
              "\n",
              "    .colab-df-buttons div {\n",
              "      margin-bottom: 4px;\n",
              "    }\n",
              "\n",
              "    [theme=dark] .colab-df-convert {\n",
              "      background-color: #3B4455;\n",
              "      fill: #D2E3FC;\n",
              "    }\n",
              "\n",
              "    [theme=dark] .colab-df-convert:hover {\n",
              "      background-color: #434B5C;\n",
              "      box-shadow: 0px 1px 3px 1px rgba(0, 0, 0, 0.15);\n",
              "      filter: drop-shadow(0px 1px 2px rgba(0, 0, 0, 0.3));\n",
              "      fill: #FFFFFF;\n",
              "    }\n",
              "  </style>\n",
              "\n",
              "    <script>\n",
              "      const buttonEl =\n",
              "        document.querySelector('#df-f2715e3e-1642-423d-b1ab-3da327408f14 button.colab-df-convert');\n",
              "      buttonEl.style.display =\n",
              "        google.colab.kernel.accessAllowed ? 'block' : 'none';\n",
              "\n",
              "      async function convertToInteractive(key) {\n",
              "        const element = document.querySelector('#df-f2715e3e-1642-423d-b1ab-3da327408f14');\n",
              "        const dataTable =\n",
              "          await google.colab.kernel.invokeFunction('convertToInteractive',\n",
              "                                                    [key], {});\n",
              "        if (!dataTable) return;\n",
              "\n",
              "        const docLinkHtml = 'Like what you see? Visit the ' +\n",
              "          '<a target=\"_blank\" href=https://colab.research.google.com/notebooks/data_table.ipynb>data table notebook</a>'\n",
              "          + ' to learn more about interactive tables.';\n",
              "        element.innerHTML = '';\n",
              "        dataTable['output_type'] = 'display_data';\n",
              "        await google.colab.output.renderOutput(dataTable, element);\n",
              "        const docLink = document.createElement('div');\n",
              "        docLink.innerHTML = docLinkHtml;\n",
              "        element.appendChild(docLink);\n",
              "      }\n",
              "    </script>\n",
              "  </div>\n",
              "\n",
              "\n",
              "    <div id=\"df-34690b2c-bbdf-40c4-be41-43bb6e25a20d\">\n",
              "      <button class=\"colab-df-quickchart\" onclick=\"quickchart('df-34690b2c-bbdf-40c4-be41-43bb6e25a20d')\"\n",
              "                title=\"Suggest charts\"\n",
              "                style=\"display:none;\">\n",
              "\n",
              "<svg xmlns=\"http://www.w3.org/2000/svg\" height=\"24px\"viewBox=\"0 0 24 24\"\n",
              "     width=\"24px\">\n",
              "    <g>\n",
              "        <path d=\"M19 3H5c-1.1 0-2 .9-2 2v14c0 1.1.9 2 2 2h14c1.1 0 2-.9 2-2V5c0-1.1-.9-2-2-2zM9 17H7v-7h2v7zm4 0h-2V7h2v10zm4 0h-2v-4h2v4z\"/>\n",
              "    </g>\n",
              "</svg>\n",
              "      </button>\n",
              "\n",
              "<style>\n",
              "  .colab-df-quickchart {\n",
              "      --bg-color: #E8F0FE;\n",
              "      --fill-color: #1967D2;\n",
              "      --hover-bg-color: #E2EBFA;\n",
              "      --hover-fill-color: #174EA6;\n",
              "      --disabled-fill-color: #AAA;\n",
              "      --disabled-bg-color: #DDD;\n",
              "  }\n",
              "\n",
              "  [theme=dark] .colab-df-quickchart {\n",
              "      --bg-color: #3B4455;\n",
              "      --fill-color: #D2E3FC;\n",
              "      --hover-bg-color: #434B5C;\n",
              "      --hover-fill-color: #FFFFFF;\n",
              "      --disabled-bg-color: #3B4455;\n",
              "      --disabled-fill-color: #666;\n",
              "  }\n",
              "\n",
              "  .colab-df-quickchart {\n",
              "    background-color: var(--bg-color);\n",
              "    border: none;\n",
              "    border-radius: 50%;\n",
              "    cursor: pointer;\n",
              "    display: none;\n",
              "    fill: var(--fill-color);\n",
              "    height: 32px;\n",
              "    padding: 0;\n",
              "    width: 32px;\n",
              "  }\n",
              "\n",
              "  .colab-df-quickchart:hover {\n",
              "    background-color: var(--hover-bg-color);\n",
              "    box-shadow: 0 1px 2px rgba(60, 64, 67, 0.3), 0 1px 3px 1px rgba(60, 64, 67, 0.15);\n",
              "    fill: var(--button-hover-fill-color);\n",
              "  }\n",
              "\n",
              "  .colab-df-quickchart-complete:disabled,\n",
              "  .colab-df-quickchart-complete:disabled:hover {\n",
              "    background-color: var(--disabled-bg-color);\n",
              "    fill: var(--disabled-fill-color);\n",
              "    box-shadow: none;\n",
              "  }\n",
              "\n",
              "  .colab-df-spinner {\n",
              "    border: 2px solid var(--fill-color);\n",
              "    border-color: transparent;\n",
              "    border-bottom-color: var(--fill-color);\n",
              "    animation:\n",
              "      spin 1s steps(1) infinite;\n",
              "  }\n",
              "\n",
              "  @keyframes spin {\n",
              "    0% {\n",
              "      border-color: transparent;\n",
              "      border-bottom-color: var(--fill-color);\n",
              "      border-left-color: var(--fill-color);\n",
              "    }\n",
              "    20% {\n",
              "      border-color: transparent;\n",
              "      border-left-color: var(--fill-color);\n",
              "      border-top-color: var(--fill-color);\n",
              "    }\n",
              "    30% {\n",
              "      border-color: transparent;\n",
              "      border-left-color: var(--fill-color);\n",
              "      border-top-color: var(--fill-color);\n",
              "      border-right-color: var(--fill-color);\n",
              "    }\n",
              "    40% {\n",
              "      border-color: transparent;\n",
              "      border-right-color: var(--fill-color);\n",
              "      border-top-color: var(--fill-color);\n",
              "    }\n",
              "    60% {\n",
              "      border-color: transparent;\n",
              "      border-right-color: var(--fill-color);\n",
              "    }\n",
              "    80% {\n",
              "      border-color: transparent;\n",
              "      border-right-color: var(--fill-color);\n",
              "      border-bottom-color: var(--fill-color);\n",
              "    }\n",
              "    90% {\n",
              "      border-color: transparent;\n",
              "      border-bottom-color: var(--fill-color);\n",
              "    }\n",
              "  }\n",
              "</style>\n",
              "\n",
              "      <script>\n",
              "        async function quickchart(key) {\n",
              "          const quickchartButtonEl =\n",
              "            document.querySelector('#' + key + ' button');\n",
              "          quickchartButtonEl.disabled = true;  // To prevent multiple clicks.\n",
              "          quickchartButtonEl.classList.add('colab-df-spinner');\n",
              "          try {\n",
              "            const charts = await google.colab.kernel.invokeFunction(\n",
              "                'suggestCharts', [key], {});\n",
              "          } catch (error) {\n",
              "            console.error('Error during call to suggestCharts:', error);\n",
              "          }\n",
              "          quickchartButtonEl.classList.remove('colab-df-spinner');\n",
              "          quickchartButtonEl.classList.add('colab-df-quickchart-complete');\n",
              "        }\n",
              "        (() => {\n",
              "          let quickchartButtonEl =\n",
              "            document.querySelector('#df-34690b2c-bbdf-40c4-be41-43bb6e25a20d button');\n",
              "          quickchartButtonEl.style.display =\n",
              "            google.colab.kernel.accessAllowed ? 'block' : 'none';\n",
              "        })();\n",
              "      </script>\n",
              "    </div>\n",
              "\n",
              "    </div>\n",
              "  </div>\n"
            ],
            "text/plain": [
              "                n | Validation  % | Validation  n | Test  % | Test\n",
              "label_Phi3_str                                                    \n",
              "Bullish                   1335            56.0      1332      55.8\n",
              "Neutral                    657            27.5       656      27.5\n",
              "Bearish                    394            16.5       400      16.8"
            ]
          },
          "execution_count": 25,
          "metadata": {},
          "output_type": "execute_result"
        }
      ],
      "source": [
        "# Absolute and relative frequencies of sentiment labels\n",
        "pd.DataFrame({\n",
        "    \"n | Validation\": X_val['label_Phi3_str'].value_counts(),\n",
        "    \"% | Validation\": round(X_val['label_Phi3_str'].value_counts(normalize=True) * 100, 1),\n",
        "    \"n | Test\": tweets_test_data['label_Phi3_str'].value_counts(),\n",
        "    \"% | Test\": round(tweets_test_data['label_Phi3_str'].value_counts(normalize=True) * 100, 1)\n",
        "})"
      ]
    },
    {
      "cell_type": "code",
      "execution_count": 26,
      "id": "d82b699f",
      "metadata": {
        "colab": {
          "base_uri": "https://localhost:8080/",
          "height": 982
        },
        "id": "d82b699f",
        "outputId": "a198fc85-d713-419f-f676-31413e8e6d47"
      },
      "outputs": [
        {
          "data": {
            "text/html": [
              "<h1 style=\"text-align: left; margin-bottom: -15px;\">Phi-3-mini-4k-instruct | Original Text</h1><br>"
            ]
          },
          "metadata": {},
          "output_type": "display_data"
        },
        {
          "name": "stdout",
          "output_type": "stream",
          "text": [
            "___________________________________________________________________________________________________________\n",
            "                                                VALIDATION                                                 \n",
            "-----------------------------------------------------------------------------------------------------------\n",
            "              precision    recall  f1-score   support\n",
            "\n",
            "     Bearish       0.71      0.77      0.74       360\n",
            "     Bullish       0.35      0.96      0.51       481\n",
            "     Neutral       0.89      0.38      0.53      1545\n",
            "\n",
            "    accuracy                           0.55      2386\n",
            "   macro avg       0.65      0.70      0.59      2386\n",
            "weighted avg       0.75      0.55      0.56      2386\n",
            "\n",
            "\n",
            "AUROC: N/A\n"
          ]
        },
        {
          "data": {
            "image/png": "[encoded data removed]",
            "text/plain": [
              "<Figure size 500x500 with 1 Axes>"
            ]
          },
          "metadata": {},
          "output_type": "display_data"
        },
        {
          "data": {
            "text/html": [
              "<h1 style=\"text-align: left; margin-bottom: -15px;\">Classification Metrics | Phi-3-mini-4k-instruct Classifier (Validation Only)</h1><br><div style=\"display: flex;\"><div style=\"margin-right: 20px;\"><h3 style=\"text-align: center;color:#555555;\">Validation Data</h3><table style=\"display:inline; margin-right: 20px;\" border=\"1\" class=\"dataframe\">\n",
              "  <thead>\n",
              "    <tr style=\"text-align: right;\">\n",
              "      <th></th>\n",
              "      <th>Accuracy</th>\n",
              "      <th>Precision</th>\n",
              "      <th>Recall</th>\n",
              "      <th>F1 Score (Macro)</th>\n",
              "      <th>AUROC</th>\n",
              "    </tr>\n",
              "  </thead>\n",
              "  <tbody>\n",
              "    <tr>\n",
              "      <th>Phi-3-mini-4k-instruct | Original Text</th>\n",
              "      <td>0.55</td>\n",
              "      <td>0.65</td>\n",
              "      <td>0.7</td>\n",
              "      <td>0.59</td>\n",
              "      <td>N/A</td>\n",
              "    </tr>\n",
              "  </tbody>\n",
              "</table style=\"display:inline; margin-right: 20px;\"></div></div>"
            ]
          },
          "metadata": {},
          "output_type": "display_data"
        }
      ],
      "source": [
        "# Convert string labels to numerical labels\n",
        "Phi3_labels_to_numeric = {'Bearish': 0, 'Bullish': 1, 'Neutral': 2}\n",
        "X_val['label_Phi3'] = X_val['label_Phi3_str'].map(Phi3_labels_to_numeric)\n",
        "tweets_test_data['label_Phi3'] = tweets_test_data['label_Phi3_str'].map(Phi3_labels_to_numeric)\n",
        "\n",
        "# Get the true labels for train and validation sets\n",
        "y_pred_val_phi3 = X_val['label_Phi3'].values                                    # Validation predictions\n",
        "\n",
        "# Calculate classification metrics only for validation set\n",
        "Phi3_val_results = classification_metrics_validation_only(\n",
        "    'Phi-3-mini-4k-instruct | Original Text',\n",
        "    y_val, y_pred_val_phi3,\n",
        "    execution_time_phi3,\n",
        "    y_pred_val_proba=None,  # Phi-3-mini-4k-instruct does not provide probabilities\n",
        "    classification_report_show=True\n",
        ")\n",
        "\n",
        "# Display validation results\n",
        "display_side_by_side(\n",
        "    pd.DataFrame(Phi3_val_results).T,\n",
        "    super_title='Classification Metrics | Phi-3-mini-4k-instruct Classifier (Validation Only)',\n",
        "    titles=['Validation Data']\n",
        ")"
      ]
    },
    {
      "cell_type": "code",
      "execution_count": 27,
      "id": "e5592433",
      "metadata": {
        "id": "e5592433"
      },
      "outputs": [],
      "source": [
        "# Save predictions to CSV (Validation and Test)\n",
        "X_val[['text', 'label_Phi3_str']].to_csv('./validation_predictions_Phi3.csv', index=False)\n",
        "tweets_test_data[['id', 'text', 'label_Phi3_str']].to_csv('./test_predictions_Phi3.csv', index=False)"
      ]
    },
    {
      "cell_type": "code",
      "execution_count": 28,
      "id": "e9034698",
      "metadata": {
        "id": "e9034698"
      },
      "outputs": [],
      "source": [
        "# Save predictions to CSV (Test Set)\n",
        "Phi3_predictions_df = pd.DataFrame({\n",
        "    'id': tweets_test_data['id'],\n",
        "    'label': tweets_test_data['label_Phi3']\n",
        "})\n",
        "Phi3_predictions_df.to_csv('./7_Phi3_TestPredictions.csv', index=False)"
      ]
    },
    {
      "cell_type": "markdown",
      "id": "1f6253f1",
      "metadata": {
        "id": "1f6253f1"
      },
      "source": [
        "---"
      ]
    }
  ],
  "metadata": {
    "accelerator": "GPU",
    "colab": {
      "gpuType": "T4",
      "provenance": []
    },
    "kernelspec": {
      "display_name": "TM_2025",
      "language": "python",
      "name": "python3"
    },
    "language_info": {
      "codemirror_mode": {
        "name": "ipython",
        "version": 3
      },
      "file_extension": ".py",
      "mimetype": "text/x-python",
      "name": "python",
      "nbconvert_exporter": "python",
      "pygments_lexer": "ipython3",
      "version": "3.10.16"
    }
  },
  "nbformat": 4,
  "nbformat_minor": 5
}
